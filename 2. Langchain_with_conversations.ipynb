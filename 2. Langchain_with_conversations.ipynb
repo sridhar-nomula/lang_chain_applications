{
 "cells": [
  {
   "cell_type": "code",
   "execution_count": 33,
   "id": "5649c684",
   "metadata": {},
   "outputs": [],
   "source": [
    "# !pip install langchain-google-genai==0.0.11\n",
    "# !pip install langchain==0.1.12"
   ]
  },
  {
   "cell_type": "code",
   "execution_count": 8,
   "id": "595a5aec",
   "metadata": {},
   "outputs": [],
   "source": [
    "import os\n",
    "import yaml\n",
    "from langchain_google_genai import ChatGoogleGenerativeAI\n",
    "from langchain_core.prompts import ChatPromptTemplate"
   ]
  },
  {
   "cell_type": "code",
   "execution_count": 3,
   "id": "9d72cc04",
   "metadata": {},
   "outputs": [],
   "source": [
    "with open('chatgpt_api_credentials.yml', 'r') as file:\n",
    "    api_creds = yaml.safe_load(file)"
   ]
  },
  {
   "cell_type": "code",
   "execution_count": 4,
   "id": "b034f12f",
   "metadata": {},
   "outputs": [],
   "source": [
    "\n",
    "\n",
    "os.environ['GOOGLE_API_KEY'] = api_creds['gemini_api_key']"
   ]
  },
  {
   "cell_type": "markdown",
   "id": "bd95f25b",
   "metadata": {},
   "source": [
    "## Load Google Gemini LLM"
   ]
  },
  {
   "cell_type": "code",
   "execution_count": 6,
   "id": "ce3c86b8",
   "metadata": {},
   "outputs": [],
   "source": [
    "gemini_model = ChatGoogleGenerativeAI(model=\"gemini-pro\",\n",
    "                                      convert_system_message_to_human=True)"
   ]
  },
  {
   "cell_type": "markdown",
   "id": "31d5e521",
   "metadata": {},
   "source": [
    "# create a basic chain"
   ]
  },
  {
   "cell_type": "code",
   "execution_count": 9,
   "id": "90e0f175",
   "metadata": {},
   "outputs": [
    {
     "name": "stdout",
     "output_type": "stream",
     "text": [
      "What do you call a lion that's always on the lookout for trouble?\n",
      "\n",
      "A prowler!\n"
     ]
    }
   ],
   "source": [
    "PROMPT = \"tell me a joke about {topic}\"\n",
    "prompt = ChatPromptTemplate.from_template(PROMPT)\n",
    "chain = (\n",
    "         prompt\n",
    "         |\n",
    "         gemini_model\n",
    ")\n",
    "\n",
    "response = chain.invoke({\"topic\": \"lion\"})\n",
    "print(response.content)"
   ]
  },
  {
   "cell_type": "code",
   "execution_count": 10,
   "id": "5d1e8f91",
   "metadata": {},
   "outputs": [],
   "source": [
    "# can be used on multiple prompts also\n",
    "topics = [{'topic': 'AI'}, {'topic': 'Statistics'}]\n",
    "responses = chain.map().invoke(topics)"
   ]
  },
  {
   "cell_type": "code",
   "execution_count": 12,
   "id": "01aff948",
   "metadata": {},
   "outputs": [
    {
     "name": "stdout",
     "output_type": "stream",
     "text": [
      "Why did the AI cross the road?\n",
      "\n",
      "To get to the other algorithm.\n",
      "-----\n",
      "Why did the statistician put his head in the oven?\n",
      "\n",
      "To get the mean temperature.\n",
      "-----\n"
     ]
    }
   ],
   "source": [
    "for response in responses:\n",
    "    print(response.content)\n",
    "    print('-----')\n",
    "#     print('\\n')"
   ]
  },
  {
   "cell_type": "markdown",
   "id": "273b48e9",
   "metadata": {},
   "source": [
    "#### No-Conversation history?"
   ]
  },
  {
   "cell_type": "code",
   "execution_count": 14,
   "id": "6c3d398b",
   "metadata": {},
   "outputs": [],
   "source": [
    "prompt = ChatPromptTemplate.from_template(\"{query}\")\n",
    "basic_chain = (\n",
    "               prompt\n",
    "               |\n",
    "              gemini_model\n",
    ")"
   ]
  },
  {
   "cell_type": "code",
   "execution_count": 16,
   "id": "ac0b245b",
   "metadata": {},
   "outputs": [
    {
     "data": {
      "text/plain": [
       "AIMessage(content='Red, Orange, Yellow, Green', response_metadata={'prompt_feedback': {'block_reason': 0, 'safety_ratings': []}, 'finish_reason': 'STOP', 'safety_ratings': [{'category': 'HARM_CATEGORY_SEXUALLY_EXPLICIT', 'probability': 'NEGLIGIBLE', 'blocked': False}, {'category': 'HARM_CATEGORY_HATE_SPEECH', 'probability': 'NEGLIGIBLE', 'blocked': False}, {'category': 'HARM_CATEGORY_HARASSMENT', 'probability': 'NEGLIGIBLE', 'blocked': False}, {'category': 'HARM_CATEGORY_DANGEROUS_CONTENT', 'probability': 'NEGLIGIBLE', 'blocked': False}]}, id='run-d5afd021-f1a8-44db-9632-14f8907596a4-0')"
      ]
     },
     "execution_count": 16,
     "metadata": {},
     "output_type": "execute_result"
    }
   ],
   "source": [
    "basic_chain.invoke({\"query\": \"what are the first four colors of rainbow? \"})\n"
   ]
  },
  {
   "cell_type": "code",
   "execution_count": 17,
   "id": "3d409586",
   "metadata": {},
   "outputs": [
    {
     "name": "stdout",
     "output_type": "stream",
     "text": [
      "1. Red\n",
      "2. Orange\n",
      "3. Yellow\n",
      "4. Green\n"
     ]
    }
   ],
   "source": [
    "response = basic_chain.invoke({\"query\" : 'What are the first four colors of the rainbow?'})\n",
    "print(response.content)"
   ]
  },
  {
   "cell_type": "code",
   "execution_count": 18,
   "id": "f960ff98",
   "metadata": {},
   "outputs": [
    {
     "name": "stdout",
     "output_type": "stream",
     "text": [
      "The context does not mention the other three, so I cannot answer this question from the provided context.\n"
     ]
    }
   ],
   "source": [
    "response = basic_chain.invoke({\"query\" : 'And the other three?'})\n",
    "print(response.content) # gives a totally random response"
   ]
  },
  {
   "cell_type": "markdown",
   "id": "a1b1a183",
   "metadata": {},
   "source": [
    "# Add momory to build conversation chain"
   ]
  },
  {
   "cell_type": "code",
   "execution_count": 19,
   "id": "bc96dc60",
   "metadata": {},
   "outputs": [],
   "source": [
    "from langchain.memory import ConversationBufferWindowMemory\n",
    "from langchain_core.prompts import ChatPromptTemplate, MessagesPlaceholder\n",
    "from langchain_core.runnables import RunnableLambda, RunnablePassthrough"
   ]
  },
  {
   "cell_type": "code",
   "execution_count": 22,
   "id": "f4c51529",
   "metadata": {},
   "outputs": [],
   "source": [
    "# create prompt template\n",
    "prompt = ChatPromptTemplate.from_messages(\n",
    "    [\n",
    "        (\"system\", \"Act as a helpful AI Assistant\"),\n",
    "        MessagesPlaceholder(variable_name=\"history\"),\n",
    "        (\"human\", \"{input}\"),\n",
    "    ]\n",
    ")\n"
   ]
  },
  {
   "cell_type": "code",
   "execution_count": 21,
   "id": "74249211",
   "metadata": {},
   "outputs": [
    {
     "data": {
      "text/plain": [
       "ConversationBufferWindowMemory(return_messages=True, k=3)"
      ]
     },
     "execution_count": 21,
     "metadata": {},
     "output_type": "execute_result"
    }
   ],
   "source": [
    "# k=3 stores last 3 conversations between you and Gemini\n",
    "memory = ConversationBufferWindowMemory(k=3, return_messages=True)"
   ]
  },
  {
   "cell_type": "code",
   "execution_count": 23,
   "id": "0d80333c",
   "metadata": {},
   "outputs": [
    {
     "data": {
      "text/plain": [
       "{'history': []}"
      ]
     },
     "execution_count": 23,
     "metadata": {},
     "output_type": "execute_result"
    }
   ],
   "source": [
    "memory.load_memory_variables({}) # shows the conversation history"
   ]
  },
  {
   "cell_type": "code",
   "execution_count": 25,
   "id": "16ba725f",
   "metadata": {},
   "outputs": [],
   "source": [
    "from operator import itemgetter\n",
    "\n",
    "# creates the conversation chain\n",
    "chain = (\n",
    "    RunnablePassthrough.assign(\n",
    "        history=RunnableLambda(memory.load_memory_variables)\n",
    "        |\n",
    "        itemgetter(\"history\")\n",
    "    )\n",
    "    |\n",
    "    prompt\n",
    "    |\n",
    "    gemini_model\n",
    ")"
   ]
  },
  {
   "cell_type": "code",
   "execution_count": 27,
   "id": "a9fd875d",
   "metadata": {},
   "outputs": [
    {
     "name": "stdout",
     "output_type": "stream",
     "text": [
      "1. Red\n",
      "2. Orange\n",
      "3. Yellow\n",
      "4. Green\n"
     ]
    }
   ],
   "source": [
    "user_input = {'input': 'What are the first four colors of a rainbow'}\n",
    "response = chain.invoke(user_input)\n",
    "print(response.content)"
   ]
  },
  {
   "cell_type": "code",
   "execution_count": 28,
   "id": "3597666b",
   "metadata": {},
   "outputs": [
    {
     "data": {
      "text/plain": [
       "{'history': []}"
      ]
     },
     "execution_count": 28,
     "metadata": {},
     "output_type": "execute_result"
    }
   ],
   "source": [
    "memory.load_memory_variables({})"
   ]
  },
  {
   "cell_type": "code",
   "execution_count": 29,
   "id": "cad2dec2",
   "metadata": {},
   "outputs": [
    {
     "data": {
      "text/plain": [
       "{'history': [HumanMessage(content='What are the first four colors of a rainbow'),\n",
       "  AIMessage(content='1. Red\\n2. Orange\\n3. Yellow\\n4. Green')]}"
      ]
     },
     "execution_count": 29,
     "metadata": {},
     "output_type": "execute_result"
    }
   ],
   "source": [
    "# remember to save your conversation to the memory\n",
    "memory.save_context(user_input, {\"output\": response.content})\n",
    "memory.load_memory_variables({}) # remembers the conversation history"
   ]
  },
  {
   "cell_type": "code",
   "execution_count": 31,
   "id": "cdd5ec4b",
   "metadata": {},
   "outputs": [
    {
     "name": "stdout",
     "output_type": "stream",
     "text": [
      "The last three colors of a rainbow are:\n",
      "\n",
      "* Blue\n",
      "* Indigo\n",
      "* Violet\n"
     ]
    }
   ],
   "source": [
    "user_input = {'input': 'And the last 3?'}\n",
    "response = chain.invoke(user_input) # uses history of the past conversation to give a better response\n",
    "print(response.content)"
   ]
  },
  {
   "cell_type": "code",
   "execution_count": 32,
   "id": "e075a46e",
   "metadata": {},
   "outputs": [
    {
     "data": {
      "text/plain": [
       "{'history': [HumanMessage(content='What are the first four colors of a rainbow'),\n",
       "  AIMessage(content='1. Red\\n2. Orange\\n3. Yellow\\n4. Green')]}"
      ]
     },
     "execution_count": 32,
     "metadata": {},
     "output_type": "execute_result"
    }
   ],
   "source": [
    "memory.load_memory_variables({})"
   ]
  },
  {
   "cell_type": "code",
   "execution_count": null,
   "id": "bad573fe",
   "metadata": {},
   "outputs": [],
   "source": []
  }
 ],
 "metadata": {
  "kernelspec": {
   "display_name": "Python 3 (ipykernel)",
   "language": "python",
   "name": "python3"
  },
  "language_info": {
   "codemirror_mode": {
    "name": "ipython",
    "version": 3
   },
   "file_extension": ".py",
   "mimetype": "text/x-python",
   "name": "python",
   "nbconvert_exporter": "python",
   "pygments_lexer": "ipython3",
   "version": "3.11.5"
  }
 },
 "nbformat": 4,
 "nbformat_minor": 5
}
