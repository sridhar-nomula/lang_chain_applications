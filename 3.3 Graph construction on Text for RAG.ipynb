{
 "cells": [
  {
   "cell_type": "markdown",
   "id": "279bd002-adb4-482c-9371-1ea44b5fa6ed",
   "metadata": {},
   "source": [
    "### GraphRAG"
   ]
  },
  {
   "cell_type": "markdown",
   "id": "b55196d0-8e81-489b-a47e-f764d1309d1b",
   "metadata": {},
   "source": [
    "The GraphRAG method is an advancement over the traditional RAG approach, incorporating a graph database to enrich contextual information provided to the Language Model (LLM). Unlike merely sending textual excerpts from documents, which may lack context and accuracy, Graph RAG integrates structured entity information, including textual descriptions, properties, and relationships. This deeper context enhances the LLM's understanding of received data, enabling better insights into subject domains. By combining the strengths of graph representation with textual content, GraphRAG offers a comprehensive approach to understanding and processing information."
   ]
  },
  {
   "cell_type": "markdown",
   "id": "cee7ed25-9d53-4daa-8335-135b970cac19",
   "metadata": {},
   "source": [
    "### Installing Libraries"
   ]
  },
  {
   "cell_type": "code",
   "execution_count": 1,
   "id": "9437bfa9-d54a-4890-ace3-62d16120230b",
   "metadata": {
    "tags": []
   },
   "outputs": [],
   "source": [
    "# !pip install openai\n",
    "# !pip install wikipedia\n",
    "# !pip install langchain\n",
    "# !pip install langchain-openai"
   ]
  },
  {
   "cell_type": "markdown",
   "id": "55a829a7-d0ee-4150-a151-993a205bfa29",
   "metadata": {},
   "source": [
    "### Importing Libraries"
   ]
  },
  {
   "cell_type": "code",
   "execution_count": 7,
   "id": "ae81a93e-bd73-4f90-9622-9fd91ca0febc",
   "metadata": {
    "tags": []
   },
   "outputs": [],
   "source": [
    "# Import the os module to interact with the operating system\n",
    "import os\n",
    "import yaml\n",
    "# Import NetworkX, a Python package for the creation, manipulation, and study of the structure, dynamics, and functions of complex networks\n",
    "import networkx as nx\n",
    "\n",
    "# Import matplotlib.pyplot for creating static, animated, and interactive visualizations in Python\n",
    "import matplotlib.pyplot as plt\n",
    "\n",
    "# Import LLMChain from langchain.chains, a class for creating language model chains\n",
    "from langchain.chains import LLMChain\n",
    "\n",
    "# Import ChatOpenAI from langchain_openai, a class for integrating with OpenAI's language models\n",
    "# from langchain_openai import ChatOpenAI\n",
    "\n",
    "# Import GraphQAChain from langchain.chains, a class for creating question-answering chains over graph data structures\n",
    "from langchain.chains import GraphQAChain\n",
    "\n",
    "# Import ChatPromptTemplate from langchain.prompts, a class for creating chat prompt templates\n",
    "from langchain.prompts import ChatPromptTemplate\n",
    "\n",
    "# Import SimpleSequentialChain from langchain.chains, a class for creating simple sequential chains\n",
    "from langchain.chains import SimpleSequentialChain\n",
    "\n",
    "\n",
    "\n",
    "# Import KnowledgeTriple from langchain.graphs.networkx_graph, a class for representing knowledge triples in a graph\n",
    "from langchain.graphs.networkx_graph import KnowledgeTriple"
   ]
  },
  {
   "cell_type": "markdown",
   "id": "2b1bda66-8ba6-46f8-91b5-a21e62225af6",
   "metadata": {},
   "source": [
    "### Loading OpenAI API Key"
   ]
  },
  {
   "cell_type": "code",
   "execution_count": 2,
   "id": "838f239a-821f-44f1-8948-8b8ccbb2057d",
   "metadata": {
    "tags": []
   },
   "outputs": [],
   "source": [
    "with open('chatgpt_api_credentials.yml', 'r') as file:\n",
    "    api_creds = yaml.safe_load(file)\n",
    "    "
   ]
  },
  {
   "cell_type": "code",
   "execution_count": 3,
   "id": "bcb3cc30",
   "metadata": {},
   "outputs": [],
   "source": [
    "os.environ['GOOGLE_API_KEY'] = api_creds['gemini_api_key']"
   ]
  },
  {
   "cell_type": "markdown",
   "id": "a52e375a-92bf-487f-b697-c936fd46303f",
   "metadata": {
    "tags": []
   },
   "source": [
    "### Introduction to Knowledge Graph"
   ]
  },
  {
   "cell_type": "markdown",
   "id": "097ae181-47fb-4c50-bb44-fabac9b433b4",
   "metadata": {},
   "source": [
    "We are going to extract information from Wikipedia, in the format of a knowledge graph. A knowledge graph is a representation of information (knowledge). It requires to identify, in a triplet format:\n",
    "\n",
    "- the head entity\n",
    "- the relation\n",
    "- the tail entity"
   ]
  },
  {
   "cell_type": "code",
   "execution_count": 5,
   "id": "0a973a51-2761-47cd-8845-4f00bc3d71c1",
   "metadata": {
    "tags": []
   },
   "outputs": [],
   "source": [
    "from IPython.display import Image\n",
    "#Image(\"kg_extraction.png\")"
   ]
  },
  {
   "cell_type": "markdown",
   "id": "4ef2c307-ca2e-472e-bcf1-b10ce39fada7",
   "metadata": {},
   "source": [
    "### Searching on Wikipedia"
   ]
  },
  {
   "cell_type": "code",
   "execution_count": 10,
   "id": "f3512ecf",
   "metadata": {},
   "outputs": [
    {
     "name": "stdout",
     "output_type": "stream",
     "text": [
      "Collecting wikipedia\n",
      "  Downloading wikipedia-1.4.0.tar.gz (27 kB)\n",
      "  Preparing metadata (setup.py): started\n",
      "  Preparing metadata (setup.py): finished with status 'done'\n",
      "Requirement already satisfied: beautifulsoup4 in c:\\users\\sridharnomula\\anaconda3\\lib\\site-packages (from wikipedia) (4.12.2)\n",
      "Requirement already satisfied: requests<3.0.0,>=2.0.0 in c:\\users\\sridharnomula\\anaconda3\\lib\\site-packages (from wikipedia) (2.31.0)\n",
      "Requirement already satisfied: charset-normalizer<4,>=2 in c:\\users\\sridharnomula\\anaconda3\\lib\\site-packages (from requests<3.0.0,>=2.0.0->wikipedia) (2.0.4)\n",
      "Requirement already satisfied: idna<4,>=2.5 in c:\\users\\sridharnomula\\anaconda3\\lib\\site-packages (from requests<3.0.0,>=2.0.0->wikipedia) (3.4)\n",
      "Requirement already satisfied: urllib3<3,>=1.21.1 in c:\\users\\sridharnomula\\anaconda3\\lib\\site-packages (from requests<3.0.0,>=2.0.0->wikipedia) (1.26.16)\n",
      "Requirement already satisfied: certifi>=2017.4.17 in c:\\users\\sridharnomula\\anaconda3\\lib\\site-packages (from requests<3.0.0,>=2.0.0->wikipedia) (2023.7.22)\n",
      "Requirement already satisfied: soupsieve>1.2 in c:\\users\\sridharnomula\\anaconda3\\lib\\site-packages (from beautifulsoup4->wikipedia) (2.4)\n",
      "Building wheels for collected packages: wikipedia\n",
      "  Building wheel for wikipedia (setup.py): started\n",
      "  Building wheel for wikipedia (setup.py): finished with status 'done'\n",
      "  Created wheel for wikipedia: filename=wikipedia-1.4.0-py3-none-any.whl size=11707 sha256=b40705cd9e7d6fdf23bddfe0b3e49297c12a7fc9c788749dcec0fdf0ccba93f4\n",
      "  Stored in directory: c:\\users\\sridharnomula\\appdata\\local\\pip\\cache\\wheels\\8f\\ab\\cb\\45ccc40522d3a1c41e1d2ad53b8f33a62f394011ec38cd71c6\n",
      "Successfully built wikipedia\n",
      "Installing collected packages: wikipedia\n",
      "Successfully installed wikipedia-1.4.0\n"
     ]
    }
   ],
   "source": [
    "!pip install wikipedia"
   ]
  },
  {
   "cell_type": "code",
   "execution_count": 11,
   "id": "4e1134b9",
   "metadata": {},
   "outputs": [],
   "source": [
    "# Import WikipediaAPIWrapper from langchain.utilities, a utility class for interacting with Wikipedia's API\n",
    "from langchain.utilities import WikipediaAPIWrapper"
   ]
  },
  {
   "cell_type": "code",
   "execution_count": 12,
   "id": "4f60706b-98ed-4fa7-9e3c-68280f12254c",
   "metadata": {
    "tags": []
   },
   "outputs": [
    {
     "name": "stdout",
     "output_type": "stream",
     "text": [
      "Page: A. P. J. Abdul Kalam\n",
      "Summary: Avul Pakir Jainulabdeen Abdul Kalam BR ( ; 15 October 1931 – 27 July 2015) was an Indian aerospace scientist and statesman who served as the 11th president of India from 2002 to 2007. He was born and raised in Rameswaram, Tamil Nadu and studied physics and aerospace engineering. He spent the next four decades as a scientist and science administrator, mainly at the Defence Research and Development Organisation (DRDO) and Indian Space Research Organisation (ISRO) and was intimately involved in India's civilian space programme and military missile development efforts. He thus came to be known as the Missile Man of India for his work on the development of ballistic missile and launch vehicle technology. He also played a pivotal organisational, technical, and political role in India's Pokhran-II nuclear tests in 1998, the first since the original nuclear test by India in 1974.\n",
      "Kalam was elected as the 11th president of India in 2002 with the support of both the ruling Bharatiya Janata Party and the then-opposition Indian National Congress. Widely referred to as the \"People's President\", he returned to his civilian life of education, writing and public service after a single term. He was a recipient of several prestigious awards, including the Bharat Ratna, India's highest civilian honour.\n",
      "While delivering a lecture at the Indian Institute of Management Shillong, Kalam collapsed and died from an apparent cardiac arrest on 27 July 2015, aged 83. Thousands, including national-level dignitaries, attended the funeral ceremony held in his hometown of Rameswaram, where he was buried with full state honours.\n"
     ]
    }
   ],
   "source": [
    "# Initialize a WikipediaAPIWrapper instance with a specified number of top results to return (in this case, 1)\n",
    "wikipedia = WikipediaAPIWrapper(top_k_results = 1)\n",
    "\n",
    "# Use the run method of the WikipediaAPIWrapper instance to fetch information about 'Tesla, Inc.' and print the result\n",
    "print(wikipedia.run('APJ Abdul Kalam'))"
   ]
  },
  {
   "cell_type": "markdown",
   "id": "5c545889-8008-44ff-931d-7671eb7602e7",
   "metadata": {},
   "source": [
    "### Defining Prompt Templates and LLMChains"
   ]
  },
  {
   "cell_type": "markdown",
   "id": "10de22d3",
   "metadata": {},
   "source": [
    "### Template 1"
   ]
  },
  {
   "cell_type": "code",
   "execution_count": 13,
   "id": "3e7837a3-77cd-4ae6-81ee-8932e44bfc86",
   "metadata": {
    "tags": []
   },
   "outputs": [],
   "source": [
    "# Define a template string for generating a refined document. \n",
    "# The template includes instructions for the refined document's content, criteria, and a placeholder for the document's content.\n",
    "first_template = \"\"\"Please generate a refined document of the following document. \\n\\\n",
    "And please ensure that the refined document meets the following criteria: \\n\\\n",
    "1. The refined document should be abstract and does not change any original \\\n",
    "meaning of the document. \\n\\\n",
    "2. The refined document should retain all the important objects, concepts, and \\\n",
    "relationship between them. \\n\\\n",
    "3. The refined document should only contain information that is from \\\n",
    "the document. \\n\\\n",
    "4. The refined document should be readable and easy to understand without any \\\n",
    "abbrevations and misspellings. \\n\\\n",
    "Here is the content: {content}\n",
    "\"\"\"\n",
    "\n",
    "# Create a ChatPromptTemplate instance from the defined template string. \n",
    "# This instance can be used to format messages for a chat model, such as generating a refined document based on the provided template.\n",
    "first_prompt = ChatPromptTemplate.from_template(first_template)"
   ]
  },
  {
   "cell_type": "code",
   "execution_count": 14,
   "id": "f9003868",
   "metadata": {},
   "outputs": [
    {
     "data": {
      "text/plain": [
       "ChatPromptTemplate(input_variables=['content'], messages=[HumanMessagePromptTemplate(prompt=PromptTemplate(input_variables=['content'], template='Please generate a refined document of the following document. \\nAnd please ensure that the refined document meets the following criteria: \\n1. The refined document should be abstract and does not change any original meaning of the document. \\n2. The refined document should retain all the important objects, concepts, and relationship between them. \\n3. The refined document should only contain information that is from the document. \\n4. The refined document should be readable and easy to understand without any abbrevations and misspellings. \\nHere is the content: {content}\\n'))])"
      ]
     },
     "execution_count": 14,
     "metadata": {},
     "output_type": "execute_result"
    }
   ],
   "source": [
    "first_prompt # these are instructions only"
   ]
  },
  {
   "cell_type": "code",
   "execution_count": 16,
   "id": "584c72fa",
   "metadata": {},
   "outputs": [],
   "source": [
    "from langchain_google_genai import ChatGoogleGenerativeAI"
   ]
  },
  {
   "cell_type": "code",
   "execution_count": 19,
   "id": "c6b7dea0-c797-405d-ab19-c26aea9bbfdf",
   "metadata": {
    "tags": []
   },
   "outputs": [],
   "source": [
    "# Initialize a Gemini instance with a temperature of 0.0, which means the responses will be very deterministic and straightforward.\n",
    "gemini_model = ChatGoogleGenerativeAI(model=\"gemini-pro\",temperature=0.0,\n",
    "                                      convert_system_message_to_human=True)\n",
    "\n"
   ]
  },
  {
   "cell_type": "markdown",
   "id": "f2ac7fd0",
   "metadata": {},
   "source": [
    "Create an LLMChain instance using the previously defined ChatPromptTemplate as the prompt and the Gemini instance as the language model.\n",
    "This chain is configured to generate responses based on the template, with the deterministic behavior controlled by the temperature setting.\n"
   ]
  },
  {
   "cell_type": "code",
   "execution_count": 20,
   "id": "0b603a73",
   "metadata": {},
   "outputs": [],
   "source": [
    "first_chain = LLMChain(\n",
    "    prompt = first_prompt,\n",
    "    llm = gemini_model\n",
    ")"
   ]
  },
  {
   "cell_type": "markdown",
   "id": "0468c3c9",
   "metadata": {},
   "source": [
    "### Template 2"
   ]
  },
  {
   "cell_type": "code",
   "execution_count": 21,
   "id": "78446688-3297-4cab-89e5-00ada37f0b0b",
   "metadata": {
    "tags": []
   },
   "outputs": [],
   "source": [
    "# Define a template string for extracting a knowledge graph from a given text. \n",
    "# The template outlines the steps for identifying entities, relationships, and summarizing them into a knowledge graph format. It also specifies the format for the output and a fallback message if no knowledge can be extracted.\n",
    "second_template = \"\"\"You are a knowledge graph extractor, and your task is to extract\\\n",
    "and return a knowledge graph from a given text. Let's extract it step by step:\\n\\\n",
    "(1). Identify the entities in the text. An entity can be a noun or noun phrase \\\n",
    "that refers to a real-world object or an abstract concept. You can use a named entity\\\n",
    "recognition (NER) tool or a part-of-speech (POS) tagger to identify the entities. \\n\\\n",
    "(2). Identify the relationships between the entities. A relationship can be a verb \\\n",
    "or a prepositional phrase that connects two entities. You can use dependency parsing \\\n",
    "to identify the relationships. \\n\\\n",
    "(3). Summarize each entity and relation as short as possible and remove any stop words. \\n\\\n",
    "(4). Only return the knowledge graph in the triplet format: ('head entity', 'relation', 'tail entity'). \\n\\\n",
    "(5). Most importantly, if you cannot find any knowledge, please just output: \"None\". \\n\\\n",
    "Here is the content: {content} \n",
    "\"\"\"\n",
    "\n",
    "# Create a ChatPromptTemplate instance from the defined template string. \n",
    "# This instance is used to format messages for a chat model, specifically for the task of extracting a knowledge graph from a given text based on the provided template.\n",
    "second_prompt = ChatPromptTemplate.from_template(second_template)\n",
    "\n",
    "# Create an LLMChain instance using the previously defined ChatPromptTemplate as the prompt and the ChatOpenAI instance as the language model. \n",
    "# This chain is configured to generate responses based on the template, aiming to extract structured information in the form of a knowledge graph from the input text.\n",
    "second_chain = LLMChain(\n",
    "    prompt = second_prompt,\n",
    "    llm = gemini_model\n",
    ")"
   ]
  },
  {
   "cell_type": "markdown",
   "id": "e058334f",
   "metadata": {},
   "source": [
    "Create an instance of `SimpleSequentialChain`, which is a type of chain that executes multiple chains sequentially. \n",
    "This instance is configured with two chains: \n",
    "- first_chain and second_chain.\n",
    "- The 'verbose' parameter is set to True, indicating that detailed logging or output will be provided during the execution of the chains.\n",
    " <br><br>\n",
    " This setup allows for a sequential execution of tasks, where the output of the first chain is used as input for the second chain, facilitating complex \n",
    "workflows or multi-step processes."
   ]
  },
  {
   "cell_type": "code",
   "execution_count": 22,
   "id": "f7f99ec5-50f7-40f7-977d-d625da15ec44",
   "metadata": {
    "tags": []
   },
   "outputs": [],
   "source": [
    "overall_chain = SimpleSequentialChain(\n",
    "    chains = [first_chain, second_chain],\n",
    "    verbose = True\n",
    ")"
   ]
  },
  {
   "cell_type": "markdown",
   "id": "40062c5d-f977-4c7c-805b-f1cb64c1da37",
   "metadata": {},
   "source": [
    "# Fetching Data and Creating Knowledge Graph"
   ]
  },
  {
   "cell_type": "code",
   "execution_count": 23,
   "id": "79e0149e-6c88-4136-b3da-f2dd17f8fa66",
   "metadata": {
    "tags": []
   },
   "outputs": [],
   "source": [
    "# Initialize the Wikipedia API wrapper with a limit of 1 result per query\n",
    "wikipedia = WikipediaAPIWrapper(top_k_results=1)\n",
    "\n",
    "# Fetch the top result for the query 'Tesla, Inc.'\n",
    "wiki_pages = wikipedia.run('APJ Abdul Kalam')"
   ]
  },
  {
   "cell_type": "code",
   "execution_count": 24,
   "id": "127dcb7e",
   "metadata": {},
   "outputs": [
    {
     "data": {
      "text/plain": [
       "'Page: A. P. J. Abdul Kalam\\nSummary: Avul Pakir Jainulabdeen Abdul Kalam BR ( ; 15 October 1931 – 27 July 2015) was an Indian aerospace scientist and statesman who served as the 11th president of India from 2002 to 2007. He was born and raised in Rameswaram, Tamil Nadu and studied physics and aerospace engineering. He spent the next four decades as a scientist and science administrator, mainly at the Defence Research and Development Organisation (DRDO) and Indian Space Research Organisation (ISRO) and was intimately involved in India\\'s civilian space programme and military missile development efforts. He thus came to be known as the Missile Man of India for his work on the development of ballistic missile and launch vehicle technology. He also played a pivotal organisational, technical, and political role in India\\'s Pokhran-II nuclear tests in 1998, the first since the original nuclear test by India in 1974.\\nKalam was elected as the 11th president of India in 2002 with the support of both the ruling Bharatiya Janata Party and the then-opposition Indian National Congress. Widely referred to as the \"People\\'s President\", he returned to his civilian life of education, writing and public service after a single term. He was a recipient of several prestigious awards, including the Bharat Ratna, India\\'s highest civilian honour.\\nWhile delivering a lecture at the Indian Institute of Management Shillong, Kalam collapsed and died from an apparent cardiac arrest on 27 July 2015, aged 83. Thousands, including national-level dignitaries, attended the funeral ceremony held in his hometown of Rameswaram, where he was buried with full state honours.'"
      ]
     },
     "execution_count": 24,
     "metadata": {},
     "output_type": "execute_result"
    }
   ],
   "source": [
    "wiki_pages"
   ]
  },
  {
   "cell_type": "code",
   "execution_count": 25,
   "id": "e228884c-836b-4e73-a3cc-77f94598fbe7",
   "metadata": {
    "tags": []
   },
   "outputs": [
    {
     "name": "stderr",
     "output_type": "stream",
     "text": [
      "C:\\Users\\SridharNomula\\anaconda3\\Lib\\site-packages\\langchain_core\\_api\\deprecation.py:117: LangChainDeprecationWarning: The function `run` was deprecated in LangChain 0.1.0 and will be removed in 0.2.0. Use invoke instead.\n",
      "  warn_deprecated(\n"
     ]
    },
    {
     "name": "stdout",
     "output_type": "stream",
     "text": [
      "\n",
      "\n",
      "\u001b[1m> Entering new SimpleSequentialChain chain...\u001b[0m\n",
      "\u001b[36;1m\u001b[1;3m**Abstract**\n",
      "\n",
      "Avul Pakir Jainulabdeen Abdul Kalam, known as the \"Missile Man of India,\" was an esteemed aerospace scientist and statesman who served as India's 11th President from 2002 to 2007.\n",
      "\n",
      "**Key Concepts and Relationships**\n",
      "\n",
      "* **Aerospace Scientist:** Kalam's expertise in physics and aerospace engineering led to his involvement in India's space program and missile development.\n",
      "* **Missile Man of India:** He played a crucial role in the development of ballistic missiles and launch vehicle technology.\n",
      "* **Pokhran-II Nuclear Tests:** Kalam's organizational and technical contributions were instrumental in India's 1998 nuclear tests.\n",
      "* **People's President:** Kalam's presidency was marked by his popularity and connection with the Indian people.\n",
      "* **Legacy:** After his presidency, Kalam continued to inspire through education, writing, and public service.\n",
      "\n",
      "**Important Objects**\n",
      "\n",
      "* **Defence Research and Development Organisation (DRDO)**\n",
      "* **Indian Space Research Organisation (ISRO)**\n",
      "* **Bharat Ratna** (India's highest civilian honor)\n",
      "\n",
      "**Note:** This refined document retains the original meaning and key concepts of the provided text while presenting it in a more concise and abstract manner.\u001b[0m\n",
      "\u001b[33;1m\u001b[1;3m('Avul Pakir Jainulabdeen Abdul Kalam', 'is', 'Aerospace Scientist')\n",
      "('Avul Pakir Jainulabdeen Abdul Kalam', 'is', 'Missile Man of India')\n",
      "('Avul Pakir Jainulabdeen Abdul Kalam', 'is', 'People's President')\n",
      "('Avul Pakir Jainulabdeen Abdul Kalam', 'is', '11th President of India')\n",
      "('Avul Pakir Jainulabdeen Abdul Kalam', 'is', 'Recipient of Bharat Ratna')\n",
      "('Avul Pakir Jainulabdeen Abdul Kalam', 'is', 'President of India')\n",
      "('Avul Pakir Jainulabdeen Abdul Kalam', 'is', 'Statesman')\n",
      "('Avul Pakir Jainulabdeen Abdul Kalam', 'is', 'Esteemed')\n",
      "('Avul Pakir Jainulabdeen Abdul Kalam', 'is', 'Scientist')\n",
      "('Avul Pakir Jainulabdeen Abdul Kalam', 'is', 'Missile Man')\n",
      "('Avul Pakir Jainulabdeen Abdul Kalam', 'is', 'People's')\n",
      "('Avul Pakir Jainulabdeen Abdul Kalam', 'is', 'President')\n",
      "('Avul Pakir Jainulabdeen Abdul Kalam', 'is', 'Statesman')\n",
      "('Avul Pakir Jainulabdeen Abdul Kalam', 'is', 'Esteemed')\n",
      "('Avul Pakir Jainulabdeen Abdul Kalam', 'is', 'Scientist')\n",
      "('Avul Pakir Jainulabdeen Abdul Kalam', 'is', 'Missile Man')\n",
      "('Avul Pakir Jainulabdeen Abdul Kalam', 'is', 'People's')\n",
      "('Avul Pakir Jainulabdeen Abdul Kalam', 'is', 'President')\n",
      "('Avul Pakir Jainulabdeen Abdul Kalam', 'is', 'Statesman')\n",
      "('Avul Pakir Jainulabdeen Abdul Kalam', 'is', 'Esteemed')\n",
      "('Avul Pakir Jainulabdeen Abdul Kalam', 'is', 'Scientist')\n",
      "('Avul Pakir Jainulabdeen Abdul Kalam', 'is', 'Missile Man')\n",
      "('Avul Pakir Jainulabdeen Abdul Kalam', 'is', 'People's')\n",
      "('Avul Pakir Jainulabdeen Abdul Kalam', 'is', 'President')\n",
      "('Avul Pakir Jainulabdeen Abdul Kalam', 'is', 'Statesman')\n",
      "('Avul Pakir Jainulabdeen Abdul Kalam', 'is', 'Esteemed')\n",
      "('Avul Pakir Jainulabdeen Abdul Kalam', 'is', 'Scientist')\n",
      "('Avul Pakir Jainulabdeen Abdul Kalam', 'is', 'Missile Man')\n",
      "('Avul Pakir Jainulabdeen Abdul Kalam', 'is', 'People's')\n",
      "('Avul Pakir Jainulabdeen Abdul Kalam', 'is', 'President')\n",
      "('Avul Pakir Jainulabdeen Abdul Kalam', 'is', 'Statesman')\n",
      "('Avul Pakir Jainulabdeen Abdul Kalam', 'is', 'Esteemed')\n",
      "('Avul Pakir Jainulabdeen Abdul Kalam', 'is', 'Scientist')\n",
      "('Avul Pakir Jainulabdeen Abdul Kalam', 'is', 'Missile Man')\n",
      "('Avul Pakir Jainulabdeen Abdul Kalam', 'is', 'People's')\n",
      "('Avul Pakir Jainulabdeen Abdul Kalam', 'is', 'President')\n",
      "('Avul Pakir Jainulabdeen Abdul Kalam', 'is', 'Statesman')\n",
      "('Avul Pakir Jainulabdeen Abdul Kalam', 'is', 'Esteemed')\n",
      "('Avul Pakir Jainulabdeen Abdul Kalam', 'is', 'Scientist')\n",
      "('Avul Pakir Jainulabdeen Abdul Kalam', 'is', 'Missile Man')\n",
      "('Avul Pakir Jainulabdeen Abdul Kalam', 'is', 'People's')\n",
      "('Avul Pakir Jainulabdeen Abdul Kalam', 'is', 'President')\n",
      "('Avul Pakir Jainulabdeen Abdul Kalam', 'is', 'Statesman')\n",
      "('Avul Pakir Jainulabdeen Abdul Kalam', 'is', 'Esteemed')\n",
      "('Avul Pakir Jainulabdeen Abdul Kalam', 'is', 'Scientist')\n",
      "('Avul Pakir Jainulabdeen Abdul Kalam', 'is', 'Missile Man')\n",
      "('Avul Pakir Jainulabdeen Abdul Kalam', 'is', 'People's')\n",
      "('Avul Pakir Jainulabdeen Abdul Kalam', 'is', 'President')\n",
      "('Avul Pakir Jainulabdeen Abdul Kalam', 'is', 'Statesman')\n",
      "('Avul Pakir Jainulabdeen Abdul Kalam', 'is', 'Esteemed')\n",
      "('Avul Pakir Jainulabdeen Abdul Kalam', 'is', 'Scientist')\n",
      "('Avul Pakir Jainulabdeen Abdul Kalam', 'is', 'Missile Man')\n",
      "('Avul Pakir Jainulabdeen Abdul Kalam', 'is', 'People's')\n",
      "('Avul Pakir Jainulabdeen Abdul Kalam', 'is', 'President')\n",
      "('Avul Pakir Jainulabdeen Abdul Kalam', 'is', 'Statesman')\n",
      "('Avul Pakir Jainulabdeen Abdul Kalam', 'is', 'Esteemed')\n",
      "('Avul Pakir Jainulabdeen Abdul Kalam', 'is', 'Scientist')\n",
      "('Avul Pakir Jainulabdeen Abdul Kalam', 'is', 'Missile Man')\n",
      "('Avul Pakir Jainulabdeen Abdul Kalam', 'is', 'People's')\n",
      "('Avul Pakir Jainulabdeen Abdul Kalam', 'is', 'President')\n",
      "('Avul Pakir Jainulabdeen Abdul Kalam', 'is', 'Statesman')\n",
      "('Avul Pakir Jainulabdeen Abdul Kalam', 'is', 'Esteemed')\n",
      "('Avul Pakir Jainulabdeen Abdul Kalam', 'is', 'Scientist')\n",
      "('Avul Pakir Jainulabdeen Abdul Kalam', 'is', 'Missile Man')\n",
      "('Avul Pakir Jainulabdeen Abdul Kalam', 'is', 'People's')\n",
      "('Avul Pakir Jainulabdeen Abdul Kalam', 'is', 'President')\n",
      "('Avul Pakir Jainulabdeen Abdul Kalam', 'is', 'Statesman')\n",
      "('Avul Pakir Jainulabdeen Abdul Kalam', 'is', 'Esteemed')\n",
      "('Avul Pakir Jainulabdeen Abdul Kalam', 'is', 'Scientist')\n",
      "('Avul Pakir Jainulabdeen Abdul Kalam', 'is', 'Missile Man')\n",
      "('Avul Pakir Jainulabdeen Abdul Kalam', 'is', 'People's')\n",
      "('Avul Pakir Jainulabdeen Abdul Kalam', 'is', 'President')\n",
      "('Avul Pakir Jainulabdeen Abdul Kalam', 'is', 'Statesman')\n",
      "('Avul Pakir Jainulabdeen Abdul Kalam', 'is', 'Esteemed')\n",
      "('Avul Pakir Jainulabdeen Abdul Kalam', 'is', 'Scientist')\n",
      "('Avul Pakir Jainulabdeen Abdul Kalam', 'is', 'Missile Man')\n",
      "('Avul Pakir Jainulabdeen Abdul Kalam', 'is', 'People's')\n",
      "('Avul Pakir Jainulabdeen Abdul Kalam', 'is', 'President')\n",
      "('Avul Pakir Jainulabdeen Abdul Kalam', 'is', 'Statesman')\n",
      "('Avul Pakir Jainulabdeen Abdul Kalam', 'is', 'Esteemed')\n",
      "('Avul Pakir Jainulabdeen Abdul Kalam', 'is', 'Scientist')\n",
      "('Avul Pakir Jainulabdeen Abdul Kalam', 'is', 'Missile Man')\n",
      "('Avul Pakir Jainulabdeen Abdul Kalam', 'is', 'People's')\n",
      "('Avul Pakir Jainulabdeen Abdul Kalam', 'is', 'President')\n",
      "('Avul Pakir Jainulabdeen Abdul Kalam', 'is', 'Statesman')\n",
      "('Avul Pakir Jainulabdeen Abdul Kalam', 'is', 'Esteemed')\n",
      "('Avul Pakir Jainulabdeen Abdul Kalam', 'is', 'Scientist')\n",
      "('Avul Pakir Jainulabdeen Abdul Kalam', 'is', 'Missile Man')\n",
      "('Avul Pakir Jainulabdeen Abdul Kalam', 'is', 'People's')\n",
      "('Avul Pakir Jainulabdeen Abdul Kalam', 'is', 'President')\n",
      "('Avul Pakir Jainulabdeen Abdul Kalam', 'is', 'Statesman')\n",
      "('Avul Pakir Jainulabdeen Abdul Kalam', 'is', 'Esteemed')\n",
      "('Avul Pakir Jainulabdeen Abdul Kalam', 'is', 'Scientist')\n",
      "('Avul Pakir Jainulabdeen Abdul Kalam', 'is', 'Missile Man')\n",
      "('Avul Pakir Jainulabdeen Abdul Kalam', 'is', 'People's')\n",
      "('Avul Pakir Jainulabdeen Abdul Kalam', 'is', 'President')\n",
      "('Avul Pakir Jainulabdeen Abdul Kalam', 'is', 'Statesman')\n",
      "('Avul Pakir Jainulabdeen Abdul Kalam', 'is', 'Esteemed')\n",
      "('Avul Pakir Jainulabdeen Abdul Kalam', 'is', 'Scientist')\n",
      "('Avul Pakir Jainulabdeen Abdul Kalam', 'is', 'Missile Man')\n",
      "('Avul Pakir Jainulabdeen Abdul Kalam', 'is', 'People's')\n",
      "('Avul Pakir Jainulabdeen Abdul Kalam', 'is', 'President')\n",
      "('Avul Pakir Jainulabdeen Abdul Kalam',\u001b[0m\n",
      "\n",
      "\u001b[1m> Finished chain.\u001b[0m\n"
     ]
    },
    {
     "data": {
      "text/plain": [
       "\"('Avul Pakir Jainulabdeen Abdul Kalam', 'is', 'Aerospace Scientist')\\n('Avul Pakir Jainulabdeen Abdul Kalam', 'is', 'Missile Man of India')\\n('Avul Pakir Jainulabdeen Abdul Kalam', 'is', 'People's President')\\n('Avul Pakir Jainulabdeen Abdul Kalam', 'is', '11th President of India')\\n('Avul Pakir Jainulabdeen Abdul Kalam', 'is', 'Recipient of Bharat Ratna')\\n('Avul Pakir Jainulabdeen Abdul Kalam', 'is', 'President of India')\\n('Avul Pakir Jainulabdeen Abdul Kalam', 'is', 'Statesman')\\n('Avul Pakir Jainulabdeen Abdul Kalam', 'is', 'Esteemed')\\n('Avul Pakir Jainulabdeen Abdul Kalam', 'is', 'Scientist')\\n('Avul Pakir Jainulabdeen Abdul Kalam', 'is', 'Missile Man')\\n('Avul Pakir Jainulabdeen Abdul Kalam', 'is', 'People's')\\n('Avul Pakir Jainulabdeen Abdul Kalam', 'is', 'President')\\n('Avul Pakir Jainulabdeen Abdul Kalam', 'is', 'Statesman')\\n('Avul Pakir Jainulabdeen Abdul Kalam', 'is', 'Esteemed')\\n('Avul Pakir Jainulabdeen Abdul Kalam', 'is', 'Scientist')\\n('Avul Pakir Jainulabdeen Abdul Kalam', 'is', 'Missile Man')\\n('Avul Pakir Jainulabdeen Abdul Kalam', 'is', 'People's')\\n('Avul Pakir Jainulabdeen Abdul Kalam', 'is', 'President')\\n('Avul Pakir Jainulabdeen Abdul Kalam', 'is', 'Statesman')\\n('Avul Pakir Jainulabdeen Abdul Kalam', 'is', 'Esteemed')\\n('Avul Pakir Jainulabdeen Abdul Kalam', 'is', 'Scientist')\\n('Avul Pakir Jainulabdeen Abdul Kalam', 'is', 'Missile Man')\\n('Avul Pakir Jainulabdeen Abdul Kalam', 'is', 'People's')\\n('Avul Pakir Jainulabdeen Abdul Kalam', 'is', 'President')\\n('Avul Pakir Jainulabdeen Abdul Kalam', 'is', 'Statesman')\\n('Avul Pakir Jainulabdeen Abdul Kalam', 'is', 'Esteemed')\\n('Avul Pakir Jainulabdeen Abdul Kalam', 'is', 'Scientist')\\n('Avul Pakir Jainulabdeen Abdul Kalam', 'is', 'Missile Man')\\n('Avul Pakir Jainulabdeen Abdul Kalam', 'is', 'People's')\\n('Avul Pakir Jainulabdeen Abdul Kalam', 'is', 'President')\\n('Avul Pakir Jainulabdeen Abdul Kalam', 'is', 'Statesman')\\n('Avul Pakir Jainulabdeen Abdul Kalam', 'is', 'Esteemed')\\n('Avul Pakir Jainulabdeen Abdul Kalam', 'is', 'Scientist')\\n('Avul Pakir Jainulabdeen Abdul Kalam', 'is', 'Missile Man')\\n('Avul Pakir Jainulabdeen Abdul Kalam', 'is', 'People's')\\n('Avul Pakir Jainulabdeen Abdul Kalam', 'is', 'President')\\n('Avul Pakir Jainulabdeen Abdul Kalam', 'is', 'Statesman')\\n('Avul Pakir Jainulabdeen Abdul Kalam', 'is', 'Esteemed')\\n('Avul Pakir Jainulabdeen Abdul Kalam', 'is', 'Scientist')\\n('Avul Pakir Jainulabdeen Abdul Kalam', 'is', 'Missile Man')\\n('Avul Pakir Jainulabdeen Abdul Kalam', 'is', 'People's')\\n('Avul Pakir Jainulabdeen Abdul Kalam', 'is', 'President')\\n('Avul Pakir Jainulabdeen Abdul Kalam', 'is', 'Statesman')\\n('Avul Pakir Jainulabdeen Abdul Kalam', 'is', 'Esteemed')\\n('Avul Pakir Jainulabdeen Abdul Kalam', 'is', 'Scientist')\\n('Avul Pakir Jainulabdeen Abdul Kalam', 'is', 'Missile Man')\\n('Avul Pakir Jainulabdeen Abdul Kalam', 'is', 'People's')\\n('Avul Pakir Jainulabdeen Abdul Kalam', 'is', 'President')\\n('Avul Pakir Jainulabdeen Abdul Kalam', 'is', 'Statesman')\\n('Avul Pakir Jainulabdeen Abdul Kalam', 'is', 'Esteemed')\\n('Avul Pakir Jainulabdeen Abdul Kalam', 'is', 'Scientist')\\n('Avul Pakir Jainulabdeen Abdul Kalam', 'is', 'Missile Man')\\n('Avul Pakir Jainulabdeen Abdul Kalam', 'is', 'People's')\\n('Avul Pakir Jainulabdeen Abdul Kalam', 'is', 'President')\\n('Avul Pakir Jainulabdeen Abdul Kalam', 'is', 'Statesman')\\n('Avul Pakir Jainulabdeen Abdul Kalam', 'is', 'Esteemed')\\n('Avul Pakir Jainulabdeen Abdul Kalam', 'is', 'Scientist')\\n('Avul Pakir Jainulabdeen Abdul Kalam', 'is', 'Missile Man')\\n('Avul Pakir Jainulabdeen Abdul Kalam', 'is', 'People's')\\n('Avul Pakir Jainulabdeen Abdul Kalam', 'is', 'President')\\n('Avul Pakir Jainulabdeen Abdul Kalam', 'is', 'Statesman')\\n('Avul Pakir Jainulabdeen Abdul Kalam', 'is', 'Esteemed')\\n('Avul Pakir Jainulabdeen Abdul Kalam', 'is', 'Scientist')\\n('Avul Pakir Jainulabdeen Abdul Kalam', 'is', 'Missile Man')\\n('Avul Pakir Jainulabdeen Abdul Kalam', 'is', 'People's')\\n('Avul Pakir Jainulabdeen Abdul Kalam', 'is', 'President')\\n('Avul Pakir Jainulabdeen Abdul Kalam', 'is', 'Statesman')\\n('Avul Pakir Jainulabdeen Abdul Kalam', 'is', 'Esteemed')\\n('Avul Pakir Jainulabdeen Abdul Kalam', 'is', 'Scientist')\\n('Avul Pakir Jainulabdeen Abdul Kalam', 'is', 'Missile Man')\\n('Avul Pakir Jainulabdeen Abdul Kalam', 'is', 'People's')\\n('Avul Pakir Jainulabdeen Abdul Kalam', 'is', 'President')\\n('Avul Pakir Jainulabdeen Abdul Kalam', 'is', 'Statesman')\\n('Avul Pakir Jainulabdeen Abdul Kalam', 'is', 'Esteemed')\\n('Avul Pakir Jainulabdeen Abdul Kalam', 'is', 'Scientist')\\n('Avul Pakir Jainulabdeen Abdul Kalam', 'is', 'Missile Man')\\n('Avul Pakir Jainulabdeen Abdul Kalam', 'is', 'People's')\\n('Avul Pakir Jainulabdeen Abdul Kalam', 'is', 'President')\\n('Avul Pakir Jainulabdeen Abdul Kalam', 'is', 'Statesman')\\n('Avul Pakir Jainulabdeen Abdul Kalam', 'is', 'Esteemed')\\n('Avul Pakir Jainulabdeen Abdul Kalam', 'is', 'Scientist')\\n('Avul Pakir Jainulabdeen Abdul Kalam', 'is', 'Missile Man')\\n('Avul Pakir Jainulabdeen Abdul Kalam', 'is', 'People's')\\n('Avul Pakir Jainulabdeen Abdul Kalam', 'is', 'President')\\n('Avul Pakir Jainulabdeen Abdul Kalam', 'is', 'Statesman')\\n('Avul Pakir Jainulabdeen Abdul Kalam', 'is', 'Esteemed')\\n('Avul Pakir Jainulabdeen Abdul Kalam', 'is', 'Scientist')\\n('Avul Pakir Jainulabdeen Abdul Kalam', 'is', 'Missile Man')\\n('Avul Pakir Jainulabdeen Abdul Kalam', 'is', 'People's')\\n('Avul Pakir Jainulabdeen Abdul Kalam', 'is', 'President')\\n('Avul Pakir Jainulabdeen Abdul Kalam', 'is', 'Statesman')\\n('Avul Pakir Jainulabdeen Abdul Kalam', 'is', 'Esteemed')\\n('Avul Pakir Jainulabdeen Abdul Kalam', 'is', 'Scientist')\\n('Avul Pakir Jainulabdeen Abdul Kalam', 'is', 'Missile Man')\\n('Avul Pakir Jainulabdeen Abdul Kalam', 'is', 'People's')\\n('Avul Pakir Jainulabdeen Abdul Kalam', 'is', 'President')\\n('Avul Pakir Jainulabdeen Abdul Kalam', 'is', 'Statesman')\\n('Avul Pakir Jainulabdeen Abdul Kalam', 'is', 'Esteemed')\\n('Avul Pakir Jainulabdeen Abdul Kalam', 'is', 'Scientist')\\n('Avul Pakir Jainulabdeen Abdul Kalam', 'is', 'Missile Man')\\n('Avul Pakir Jainulabdeen Abdul Kalam', 'is', 'People's')\\n('Avul Pakir Jainulabdeen Abdul Kalam', 'is', 'President')\\n('Avul Pakir Jainulabdeen Abdul Kalam',\""
      ]
     },
     "execution_count": 25,
     "metadata": {},
     "output_type": "execute_result"
    }
   ],
   "source": [
    "# Execute the overall chain with the fetched Wikipedia pages as input\n",
    "overall_chain.run(wiki_pages)"
   ]
  },
  {
   "cell_type": "markdown",
   "id": "507f1f95",
   "metadata": {},
   "source": [
    "This line of code dynamically evaluates and processes a chain of expressions (triples) obtained from running a function (overall_chain) on a set of wiki pages (wiki_pages). <br>\n",
    "It splits the output by newline characters, filters out empty strings, and evaluates each non-empty string as a Python expression using eval().<br>\n",
    "The result is a list of evaluated expressions (triples), which are then stored in the variable list_of_triples."
   ]
  },
  {
   "cell_type": "code",
   "execution_count": 26,
   "id": "204a22a8-85eb-4ff9-8f8e-d9e9c3b19055",
   "metadata": {
    "tags": []
   },
   "outputs": [
    {
     "name": "stdout",
     "output_type": "stream",
     "text": [
      "\n",
      "\n",
      "\u001b[1m> Entering new SimpleSequentialChain chain...\u001b[0m\n",
      "\u001b[36;1m\u001b[1;3m**Abstract**\n",
      "\n",
      "Avul Pakir Jainulabdeen Abdul Kalam, known as the \"Missile Man of India,\" was an esteemed aerospace scientist and statesman who served as India's 11th President from 2002 to 2007.\n",
      "\n",
      "**Key Concepts and Relationships**\n",
      "\n",
      "* **Aerospace Scientist:** Kalam's expertise in physics and aerospace engineering led to his involvement in India's space and missile programs.\n",
      "* **Missile Development:** He played a crucial role in developing India's ballistic missile and launch vehicle technology.\n",
      "* **Nuclear Tests:** Kalam's contributions to India's Pokhran-II nuclear tests in 1998 were significant.\n",
      "* **Presidential Tenure:** Elected with bipartisan support, Kalam served as President from 2002 to 2007, earning the title \"People's President.\"\n",
      "* **Legacy:** After his presidency, Kalam continued his work in education, writing, and public service. He received numerous awards, including the Bharat Ratna, India's highest civilian honor.\n",
      "* **Death and Funeral:** Kalam passed away in 2015 due to cardiac arrest. His funeral in Rameswaram was attended by national dignitaries and he was buried with full state honors.\u001b[0m\n",
      "\u001b[33;1m\u001b[1;3m('Avul Pakir Jainulabdeen Abdul Kalam', 'profession', 'Aerospace Scientist')\n",
      "('Avul Pakir Jainulabdeen Abdul Kalam', 'role', 'Missile Development')\n",
      "('Avul Pakir Jainulabdeen Abdul Kalam', 'contribution', 'Nuclear Tests')\n",
      "('Avul Pakir Jainulabdeen Abdul Kalam', 'tenure', 'Presidential Tenure')\n",
      "('Avul Pakir Jainulabdeen Abdul Kalam', 'legacy', 'Legacy')\n",
      "('Avul Pakir Jainulabdeen Abdul Kalam', 'death', 'Death and Funeral')\u001b[0m\n",
      "\n",
      "\u001b[1m> Finished chain.\u001b[0m\n"
     ]
    }
   ],
   "source": [
    "list_of_triples = [eval(t) for t in overall_chain.run(wiki_pages).split('\\n') if t]"
   ]
  },
  {
   "cell_type": "code",
   "execution_count": 27,
   "id": "7a4d91a2-43ba-4428-9a31-06c878fc67e6",
   "metadata": {
    "tags": []
   },
   "outputs": [
    {
     "data": {
      "text/plain": [
       "[('Avul Pakir Jainulabdeen Abdul Kalam', 'profession', 'Aerospace Scientist'),\n",
       " ('Avul Pakir Jainulabdeen Abdul Kalam', 'role', 'Missile Development'),\n",
       " ('Avul Pakir Jainulabdeen Abdul Kalam', 'contribution', 'Nuclear Tests'),\n",
       " ('Avul Pakir Jainulabdeen Abdul Kalam', 'tenure', 'Presidential Tenure'),\n",
       " ('Avul Pakir Jainulabdeen Abdul Kalam', 'legacy', 'Legacy'),\n",
       " ('Avul Pakir Jainulabdeen Abdul Kalam', 'death', 'Death and Funeral')]"
      ]
     },
     "execution_count": 27,
     "metadata": {},
     "output_type": "execute_result"
    }
   ],
   "source": [
    "# inspecting the triples for any errors qualitatively\n",
    "list_of_triples"
   ]
  },
  {
   "cell_type": "code",
   "execution_count": 29,
   "id": "49e5aab3",
   "metadata": {},
   "outputs": [
    {
     "data": {
      "text/plain": [
       "[('Avul Pakir Jainulabdeen Abdul Kalam', 'profession', 'Aerospace Scientist'),\n",
       " ('Avul Pakir Jainulabdeen Abdul Kalam', 'role', 'Missile Development'),\n",
       " ('Avul Pakir Jainulabdeen Abdul Kalam', 'contribution', 'Nuclear Tests'),\n",
       " ('Avul Pakir Jainulabdeen Abdul Kalam', 'tenure', 'Presidential Tenure'),\n",
       " ('Avul Pakir Jainulabdeen Abdul Kalam', 'legacy', 'Legacy'),\n",
       " ('Avul Pakir Jainulabdeen Abdul Kalam', 'death', 'Death and Funeral')]"
      ]
     },
     "execution_count": 29,
     "metadata": {},
     "output_type": "execute_result"
    }
   ],
   "source": [
    "list_of_triples = [item for item in list_of_triples if item is not None]\n",
    "list_of_triples"
   ]
  },
  {
   "cell_type": "markdown",
   "id": "f4abaf23",
   "metadata": {},
   "source": [
    "This line filters the list_of_triples to include only those triples that have exactly three elements.\n",
    "It uses a list comprehension to iterate over each triple in list_of_triples and checks the length of each triple.\n",
    "Only triples with a length of 3 are included in the filtered_list.\n"
   ]
  },
  {
   "cell_type": "code",
   "execution_count": 30,
   "id": "e6fc6666-92d9-42bd-9b94-c66317f0dedb",
   "metadata": {
    "tags": []
   },
   "outputs": [],
   "source": [
    "filtered_list = [t for t in list_of_triples if len(t) == 3]\n",
    "\n",
    "# This line updates the filtered_list by replacing occurrences of \"Tesla, Inc.\" with \"Tesla\" in each element of each triple.\n",
    "# It uses a nested list comprehension to iterate over each triple in the filtered_list.\n",
    "# For each element in a triple, it checks if the element is a string. If it is, it replaces \"Tesla, Inc.\" with \"Tesla\".\n",
    "# If the element is not a string, it remains unchanged.\n",
    "# The result is a new list where each triple has been updated as described, and this updated list is stored in filtered_list_updated.\n",
    "filtered_list_updated = [tuple(element.replace(\"Tesla, Inc.\", \"Tesla\") if isinstance(element, str) else element for element in triple) for triple in filtered_list]"
   ]
  },
  {
   "cell_type": "code",
   "execution_count": 31,
   "id": "9991122c",
   "metadata": {},
   "outputs": [
    {
     "data": {
      "text/plain": [
       "[('Avul Pakir Jainulabdeen Abdul Kalam', 'profession', 'Aerospace Scientist'),\n",
       " ('Avul Pakir Jainulabdeen Abdul Kalam', 'role', 'Missile Development'),\n",
       " ('Avul Pakir Jainulabdeen Abdul Kalam', 'contribution', 'Nuclear Tests'),\n",
       " ('Avul Pakir Jainulabdeen Abdul Kalam', 'tenure', 'Presidential Tenure'),\n",
       " ('Avul Pakir Jainulabdeen Abdul Kalam', 'legacy', 'Legacy'),\n",
       " ('Avul Pakir Jainulabdeen Abdul Kalam', 'death', 'Death and Funeral')]"
      ]
     },
     "execution_count": 31,
     "metadata": {},
     "output_type": "execute_result"
    }
   ],
   "source": [
    "filtered_list"
   ]
  },
  {
   "cell_type": "markdown",
   "id": "a9f61a2c-81bb-47cc-9dc6-f4ee41eecd50",
   "metadata": {
    "tags": []
   },
   "source": [
    "### Creating and Visualizing the Knowledge Graph"
   ]
  },
  {
   "cell_type": "code",
   "execution_count": 32,
   "id": "430b6ae8-483b-4da5-9539-8f74d44de232",
   "metadata": {
    "tags": []
   },
   "outputs": [
    {
     "data": {
      "image/png": "[encoded data removed]",
      "text/plain": [
       "<Figure size 2200x1200 with 1 Axes>"
      ]
     },
     "metadata": {},
     "output_type": "display_data"
    }
   ],
   "source": [
    "# Create a directed graph\n",
    "G = nx.DiGraph()\n",
    "\n",
    "# Add edges to the graph\n",
    "for item in filtered_list_updated:\n",
    "    # print(item[2])\n",
    "    G.add_edge(item[0], item[2], label=item[1])\n",
    "\n",
    "# Draw the graph\n",
    "plt.figure(figsize=(22, 12))\n",
    "pos = nx.spring_layout(G, k=0.5) # k regulates the distance between nodes\n",
    "nx.draw(G, pos, with_labels=True, node_color='orange', node_size=1400, edge_cmap=plt.cm.Blues)\n",
    "nx.draw_networkx_edge_labels(G, pos, edge_labels={(u, v): d['label'] for u, v, d in G.edges(data=True)})\n",
    "plt.show()"
   ]
  },
  {
   "cell_type": "markdown",
   "id": "257728ec-30de-4a25-a3cb-33c30bb92c09",
   "metadata": {},
   "source": [
    "### GraphRAG Implementation\n",
    "- This line initializes a new instance of the `NetworkxEntityGraph` class, which is a wrapper for graph operations using the NetworkX library. -->\n",
    "- This graph will be used to store and manipulate knowledge triples."
   ]
  },
  {
   "cell_type": "code",
   "execution_count": null,
   "id": "561e20d8",
   "metadata": {},
   "outputs": [],
   "source": [
    "# Import NetworkxEntityGraph from langchain.indexes.graph, a class for creating and managing entity graphs using NetworkX\n",
    "from langchain.indexes.graph import NetworkxEntityGraph\n",
    "graph = NetworkxEntityGraph()"
   ]
  },
  {
   "cell_type": "markdown",
   "id": "a103a8ab",
   "metadata": {},
   "source": [
    "\n",
    "This loop iterates over each triple in the filtered_list_updated. <br>\n",
    "For each triple, it creates a new KnowledgeTriple object with the elements of the triple as its subject, predicate, and object.\n",
    "The KnowledgeTriple class is a named tuple that represents a triple in the graph, consisting of a subject, predicate, and object."
   ]
  },
  {
   "cell_type": "code",
   "execution_count": 43,
   "id": "4a79065c-ec70-4875-99cf-c054a7203909",
   "metadata": {
    "tags": []
   },
   "outputs": [],
   "source": [
    "for item in filtered_list_updated:\n",
    "    kt = KnowledgeTriple(item[0], item[1], item[2])\n",
    "    \n",
    "    # This line adds the created KnowledgeTriple object to the graph.\n",
    "    # The add_triple method of the NetworkxEntityGraph class is used to add the triple to the graph.\n",
    "    # This method ensures that nodes for the subject and object of the triple are created if they do not already exist in the graph.\n",
    "    # It also adds an edge between the subject and object nodes, with the predicate as the relation attribute of the edge.\n",
    "    graph.add_triple(kt)"
   ]
  },
  {
   "cell_type": "markdown",
   "id": "340fed86",
   "metadata": {},
   "source": [
    "- This line initializes a GraphQAChain instance using the from_llm method.\n",
    "- The llm parameter is set to the chat object, which is presumably an instance of a language model or a similar entity capable of processing natural language queries.\n",
    "- The graph parameter is set to the previously created graph, which contains the knowledge triples.\n",
    "- The verbose parameter is set to True, indicating that the chain will print intermediate logs to the console."
   ]
  },
  {
   "cell_type": "code",
   "execution_count": 42,
   "id": "654b8239-5c19-4234-800c-e00bf3d1be32",
   "metadata": {
    "tags": []
   },
   "outputs": [
    {
     "name": "stdout",
     "output_type": "stream",
     "text": [
      "\n",
      "\n",
      "\u001b[1m> Entering new GraphQAChain chain...\u001b[0m\n",
      "Entities Extracted:\n",
      "\u001b[32;1m\u001b[1;3mNONE\u001b[0m\n",
      "Full Context:\n",
      "\u001b[32;1m\u001b[1;3m\u001b[0m\n",
      "\n",
      "\u001b[1m> Finished chain.\u001b[0m\n",
      "I do not know the answer to this question.\n"
     ]
    }
   ],
   "source": [
    "chain = GraphQAChain.from_llm(llm=gemini_model, graph=graph, verbose=True)\n",
    "\n",
    "# This line runs the GraphQAChain with the query \"Who is the CEO of Tesla\".\n",
    "# The run method processes the query using the knowledge graph and the language model to find an answer.\n",
    "# The result of the query is stored in the variable res.\n",
    "res = chain.run(\"Missile Development?\")\n",
    "\n",
    "# This line prints the result of the query to the console.\n",
    "print(res)"
   ]
  },
  {
   "cell_type": "code",
   "execution_count": 21,
   "id": "ba689d8b-fd39-49d7-9a40-7d94557d90ad",
   "metadata": {
    "tags": []
   },
   "outputs": [
    {
     "name": "stdout",
     "output_type": "stream",
     "text": [
      "\n",
      "\n",
      "\u001b[1m> Entering new GraphQAChain chain...\u001b[0m\n",
      "Entities Extracted:\n",
      "\u001b[32;1m\u001b[1;3mTesla\u001b[0m\n",
      "Full Context:\n",
      "\u001b[32;1m\u001b[1;3mTesla is American company\n",
      "Tesla based in Austin, Texas\n",
      "Tesla specializes in electric vehicles, clean energy products, related services\n",
      "Tesla founded by Martin Eberhard, Marc Tarpenning\n",
      "Tesla introduced several car models\n",
      "Tesla reached market capitalization $1 trillion\n",
      "Tesla leading battery electric vehicle market 19.9% share\n",
      "Tesla ranked 69th Forbes Global 2000\n",
      "Tesla most valuable automaker\n",
      "Tesla faced legal challenges, regulatory scrutiny, criticism\u001b[0m\n",
      "\n",
      "\u001b[1m> Finished chain.\u001b[0m\n",
      "Tesla specializes in electric vehicles, clean energy products, and related services.\n"
     ]
    }
   ],
   "source": [
    "chain = GraphQAChain.from_llm(llm = chat, graph=graph, verbose=True)\n",
    "res = chain.run(\"What is the specialization of Tesla\")\n",
    "print(res)"
   ]
  },
  {
   "cell_type": "code",
   "execution_count": 45,
   "id": "beb86a97-18a0-43b8-b172-8efa999eaf55",
   "metadata": {
    "tags": []
   },
   "outputs": [
    {
     "name": "stdout",
     "output_type": "stream",
     "text": [
      "\n",
      "\n",
      "\u001b[1m> Entering new GraphQAChain chain...\u001b[0m\n",
      "Entities Extracted:\n",
      "\u001b[32;1m\u001b[1;3mAvul Pakir Jainulabdeen Abdul Kalam\u001b[0m\n",
      "Full Context:\n",
      "\u001b[32;1m\u001b[1;3mAvul Pakir Jainulabdeen Abdul Kalam profession Aerospace Scientist\n",
      "Avul Pakir Jainulabdeen Abdul Kalam role Missile Development\n",
      "Avul Pakir Jainulabdeen Abdul Kalam contribution Nuclear Tests\n",
      "Avul Pakir Jainulabdeen Abdul Kalam tenure Presidential Tenure\n",
      "Avul Pakir Jainulabdeen Abdul Kalam legacy Legacy\n",
      "Avul Pakir Jainulabdeen Abdul Kalam death Death and Funeral\u001b[0m\n",
      "\n",
      "\u001b[1m> Finished chain.\u001b[0m\n",
      "Avul Pakir Jainulabdeen Abdul Kalam was an Indian aerospace scientist who played a leading role in the development of India's missile and nuclear weapons programs. He served as the 11th President of India from 2002 to 2007.\n"
     ]
    }
   ],
   "source": [
    "chain = GraphQAChain.from_llm(llm = gemini_model, graph=graph, verbose=True)\n",
    "res = chain.run(\"Who is the Avul Pakir Jainulabdeen Abdul Kalam?\")\n",
    "print(res)"
   ]
  },
  {
   "cell_type": "code",
   "execution_count": null,
   "id": "ca2bd135-a022-4c18-8cde-88e765dcd58b",
   "metadata": {},
   "outputs": [],
   "source": []
  }
 ],
 "metadata": {
  "environment": {
   "kernel": "python3",
   "name": ".m119",
   "type": "gcloud",
   "uri": "us-docker.pkg.dev/deeplearning-platform-release/gcr.io/:m119"
  },
  "kernelspec": {
   "display_name": "Python 3 (ipykernel)",
   "language": "python",
   "name": "python3"
  },
  "language_info": {
   "codemirror_mode": {
    "name": "ipython",
    "version": 3
   },
   "file_extension": ".py",
   "mimetype": "text/x-python",
   "name": "python",
   "nbconvert_exporter": "python",
   "pygments_lexer": "ipython3",
   "version": "3.11.5"
  }
 },
 "nbformat": 4,
 "nbformat_minor": 5
}
