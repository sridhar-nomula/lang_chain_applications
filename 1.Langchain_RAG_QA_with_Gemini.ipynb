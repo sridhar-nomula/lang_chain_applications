{
 "cells": [
  {
   "cell_type": "markdown",
   "id": "874e339e",
   "metadata": {},
   "source": [
    "# Packages"
   ]
  },
  {
   "cell_type": "code",
   "execution_count": 4,
   "id": "6e338dd0",
   "metadata": {},
   "outputs": [],
   "source": [
    "#!pip install langchain-chroma"
   ]
  },
  {
   "cell_type": "code",
   "execution_count": 5,
   "id": "4cc39aa7",
   "metadata": {},
   "outputs": [],
   "source": [
    "# !pip install -U -q google.generativeai\n",
    "# !pip install -q chromadb"
   ]
  },
  {
   "cell_type": "code",
   "execution_count": 6,
   "id": "8e34913b",
   "metadata": {},
   "outputs": [],
   "source": [
    "import os\n",
    "import yaml\n",
    "\n",
    "import textwrap\n",
    "import chromadb\n",
    "\n",
    "import google.generativeai as genai\n",
    "from langchain_community.document_loaders import TextLoader\n",
    "from langchain_text_splitters import CharacterTextSplitter\n",
    "from chromadb import Documents, EmbeddingFunction, Embeddings\n",
    "\n",
    "import numpy as np\n",
    "import pandas as pd\n",
    "\n",
    "import google.generativeai as genai\n",
    "import google.ai.generativelanguage as glm\n",
    "from IPython.display import Markdown\n"
   ]
  },
  {
   "cell_type": "markdown",
   "id": "b214f21e",
   "metadata": {},
   "source": [
    "### API_KEY"
   ]
  },
  {
   "cell_type": "code",
   "execution_count": 7,
   "id": "2a84ea80",
   "metadata": {},
   "outputs": [],
   "source": [
    "with open('chatgpt_api_credentials.yml', 'r') as file:\n",
    "    api_creds = yaml.safe_load(file)"
   ]
  },
  {
   "cell_type": "markdown",
   "id": "4b12ce14",
   "metadata": {},
   "source": [
    "Once you have the API key, pass it to the SDK. You can do this in two ways:\n",
    "\n",
    "- Put the key in the GOOGLE_API_KEY environment variable (the SDK will automatically pick it up from there).\n",
    "- Pass the key to genai.configure(api_key=...)"
   ]
  },
  {
   "cell_type": "code",
   "execution_count": 8,
   "id": "30639a8c",
   "metadata": {},
   "outputs": [],
   "source": [
    "#  use `os.getenv('API_KEY')` to fetch an environment variable.\n",
    "# import os\n",
    "# os.environ['GOOGLE_API_KEY'] = api_creds['gemini_api_key']\n",
    "\n",
    "# # Or\n",
    "\n",
    "# from google.colab import userdata\n",
    "# API_KEY=userdata.get('API_KEY')\n",
    "\n",
    "genai.configure(api_key=api_creds['gemini_api_key'])\n"
   ]
  },
  {
   "cell_type": "markdown",
   "id": "c5ee6cc5",
   "metadata": {},
   "source": [
    "Choose a model. The outputs of different models are not compatible with each other."
   ]
  },
  {
   "cell_type": "code",
   "execution_count": 9,
   "id": "17e549bf",
   "metadata": {},
   "outputs": [
    {
     "name": "stdout",
     "output_type": "stream",
     "text": [
      "models/embedding-001\n",
      "models/text-embedding-004\n"
     ]
    }
   ],
   "source": [
    "for m in genai.list_models():\n",
    "    if 'embedContent' in m.supported_generation_methods:\n",
    "        print(m.name)"
   ]
  },
  {
   "cell_type": "markdown",
   "id": "51bbc3cb",
   "metadata": {},
   "source": [
    "# Load the DATA"
   ]
  },
  {
   "cell_type": "code",
   "execution_count": 10,
   "id": "654efeb2",
   "metadata": {},
   "outputs": [],
   "source": [
    "loader = TextLoader(\"Projects.txt\", encoding=\"utf-8\")"
   ]
  },
  {
   "cell_type": "code",
   "execution_count": 11,
   "id": "81919d76",
   "metadata": {},
   "outputs": [],
   "source": [
    "raw_documents= loader.load()"
   ]
  },
  {
   "cell_type": "code",
   "execution_count": 12,
   "id": "f3f40dbc",
   "metadata": {},
   "outputs": [
    {
     "data": {
      "text/plain": [
       "1"
      ]
     },
     "execution_count": 12,
     "metadata": {},
     "output_type": "execute_result"
    }
   ],
   "source": [
    "len(raw_documents)"
   ]
  },
  {
   "cell_type": "code",
   "execution_count": 13,
   "id": "24cac93c",
   "metadata": {},
   "outputs": [
    {
     "data": {
      "text/plain": [
       "'Elon Reeve Musk (/ˈiːlɒn/ EE-lon; born June 28, 1971) is a businessman and investor. He is the found'"
      ]
     },
     "execution_count": 13,
     "metadata": {},
     "output_type": "execute_result"
    }
   ],
   "source": [
    "raw_documents[0].page_content[0:100]"
   ]
  },
  {
   "cell_type": "code",
   "execution_count": 14,
   "id": "686d1a26",
   "metadata": {},
   "outputs": [],
   "source": [
    "# raw_documents= raw_documents[0].page_content.split(\". \")"
   ]
  },
  {
   "cell_type": "code",
   "execution_count": 15,
   "id": "5e4d742a",
   "metadata": {},
   "outputs": [
    {
     "data": {
      "text/plain": [
       "[Document(page_content='Elon Reeve Musk (/ˈiːlɒn/ EE-lon; born June 28, 1971) is a businessman and investor. He is the founder, chairman, CEO, and CTO of SpaceX; angel investor, CEO, product architect, and former chairman of Tesla, Inc.; owner, executive chairman, and CTO of X Corp.; founder of the Boring Company and xAI; co-founder of Neuralink and OpenAI; and president of the Musk Foundation. He is one of the wealthiest people in the world; as of April 2024, Forbes estimates his net worth to be $193 billion.[4]\\n\\nA member of the wealthy South African Musk family, Musk was born in Pretoria and briefly attended the University of Pretoria before immigrating to Canada at age 18, acquiring citizenship through his Canadian-born mother. Two years later, he matriculated at Queen\\'s University at Kingston in Canada. Musk later transferred to the University of Pennsylvania and received bachelor\\'s degrees in economics and physics. He moved to California in 1995 to attend Stanford University, but dropped out after two days and, with his brother Kimbal, co-founded online city guide software company Zip2. The startup was acquired by Compaq for $307 million in 1999. That same year, Musk co-founded X.com, a direct bank. X.com merged with Confinity in 2000 to form PayPal. In October 2002, eBay acquired PayPal for $1.5 billion. Using $100 million of the money he made from the sale of PayPal, Musk founded SpaceX, a spaceflight services company, in 2002.\\n\\nIn 2004, Musk became an early investor in electric vehicle manufacturer Tesla Motors, Inc. (later Tesla, Inc.). He became the company\\'s chairman and product architect, assuming the position of CEO in 2008. In 2006, Musk helped create SolarCity, a solar-energy company that was acquired by Tesla in 2016 and became Tesla Energy. In 2013, he proposed a hyperloop high-speed vactrain transportation system. In 2015, he co-founded OpenAI, a nonprofit artificial intelligence research company. The following year, Musk co-founded Neuralink—a neurotechnology company developing brain–computer interfaces—and the Boring Company, a tunnel construction company. In 2018, the U.S. Securities and Exchange Commission (SEC) sued Musk, alleging that he had falsely announced that he had secured funding for a private takeover of Tesla. To settle the case, Musk stepped down as the chairman of Tesla and paid a $20 million fine. In 2022, he acquired Twitter for $44 billion. He subsequently merged the company into newly created X Corp. and rebranded the service as X the following year. In March 2023, Musk founded xAI, an artificial intelligence company.\\n\\nMusk has expressed views that have made him a polarizing figure.[5] He has been criticized for making unscientific and misleading statements, including COVID-19 misinformation and antisemitic conspiracy theories.[5][6][7][8] His ownership of Twitter has been similarly controversial, being marked by layoffs of large numbers of employees, an increase in hate speech and misinformation and disinformation on the website, and changes to Twitter Blue verification.\\n\\nEarly life and education\\nChildhood and family\\nFurther information: Musk family\\nElon Reeve Musk was born on June 28, 1971, in Pretoria, South Africa\\'s administrative capital.[9][10] He is of British and Pennsylvania Dutch ancestry.[11][12] His mother, Maye Musk (née Haldeman), is a model and dietitian born in Saskatchewan, Canada, and raised in South Africa.[13][14][15] His father, Errol Musk, is a South African electromechanical engineer, pilot, sailor, consultant, emerald dealer, and property developer, who partly owned a rental lodge at the Timbavati Private Nature Reserve.[16][17][18][19] Elon has a younger brother, Kimbal, and a younger sister, Tosca.[15][20]\\n\\nThe family was wealthy during Elon\\'s youth.[19] Despite both Musk and Errol previously stating that Errol was a part owner of a Zambian emerald mine,[19] in 2023, Errol recounted that the deal he made was to receive \"a portion of the emeralds produced at three small mines.\"[21][22] Errol was elected to the Pretoria City Council as a representative of the anti-apartheid Progressive Party and has said that his children shared their father\\'s dislike of apartheid.[9]\\n\\nElon\\'s maternal grandfather, Joshua N. Haldeman, was an American-born Canadian who took his family on record-breaking journeys to Africa and Australia in a single-engine Bellanca airplane.[23][24][25][26]\\n\\nAfter his parents divorced in 1980, Elon chose to live primarily with his father.[11][16] Elon later regretted his decision and became estranged from his father.[27] In one incident, after having called a boy whose father had committed suicide \"stupid\", Elon was thrown down concrete steps and beaten severely by the boy and his friends, leading to him being hospitalized for his injuries.[28][29] Elon has four paternal half-siblings.[30][23][31]\\n\\nElon was an enthusiastic reader of books, later attributing his success in part to having read The Lord of the Rings, the Foundation series, and The Hitchhiker\\'s Guide to the Galaxy.[18][32] At age ten, he developed an interest in computing and video games, teaching himself how to program from the VIC-20 user manual.[33] At age twelve, Elon sold his BASIC-based game Blastar to PC and Office Technology magazine for approximately $500.[34][35]\\n\\nEducation\\nAn ornate school building\\nMusk graduated from Pretoria Boys High School in South Africa\\nMusk attended Waterkloof House Preparatory School, Bryanston High School, and then Pretoria Boys High School, where he graduated.[36] Musk was a good but not exceptional student, earning a 61 in Afrikaans and a B on his senior math certification.[37] Musk applied for a Canadian passport through his Canadian-born mother,[38][39] knowing that it would be easier to immigrate to the United States this way.[40] While waiting for his application to be processed, he attended the University of Pretoria for five months.[41]\\n\\nMusk arrived in Canada in June 1989, connected with a second cousin in Saskatchewan,[42] and worked odd jobs including at a farm and a lumber mill.[43] In 1990, he entered Queen\\'s University in Kingston, Ontario.[44][45]\\n\\nTwo years later, he transferred to the University of Pennsylvania, an Ivy League university in Philadelphia, where he earned two degrees, a Bachelor of Arts in physics, and a Bachelor of Science degree in economics from the university\\'s Wharton School.[46][47][48][49] Although Musk has said that he earned the degrees in 1995, the University of Pennsylvania did not award them until 1997.[50][47][51] He reportedly hosted large, ticketed house parties to help pay for tuition, and wrote a business plan for an electronic book-scanning service similar to Google Books.[52]\\n\\nIn 1994, Musk held two internships in Silicon Valley: one at energy storage startup Pinnacle Research Institute, which investigated electrolytic ultracapacitors for energy storage, and another at Palo Alto–based startup Rocket Science Games.[53][54] In 1995, he was accepted to a PhD program in materials science at Stanford University.[47][51][55] However, Musk decided to join the Internet boom, dropping out two days after being accepted and applying for a job at Netscape, to which he reportedly never received a response.', metadata={'source': 'Projects.txt'})]"
      ]
     },
     "execution_count": 15,
     "metadata": {},
     "output_type": "execute_result"
    }
   ],
   "source": [
    "(raw_documents)"
   ]
  },
  {
   "cell_type": "markdown",
   "id": "77ba4321",
   "metadata": {},
   "source": [
    "# Chunk"
   ]
  },
  {
   "cell_type": "code",
   "execution_count": 16,
   "id": "33b35f16",
   "metadata": {},
   "outputs": [],
   "source": [
    "text_splitter = CharacterTextSplitter(chunk_size = 100, chunk_overlap = 0)"
   ]
  },
  {
   "cell_type": "code",
   "execution_count": 17,
   "id": "bf9b452b",
   "metadata": {},
   "outputs": [
    {
     "name": "stderr",
     "output_type": "stream",
     "text": [
      "Created a chunk of size 494, which is longer than the specified 100\n",
      "Created a chunk of size 938, which is longer than the specified 100\n",
      "Created a chunk of size 1142, which is longer than the specified 100\n",
      "Created a chunk of size 461, which is longer than the specified 100\n",
      "Created a chunk of size 671, which is longer than the specified 100\n",
      "Created a chunk of size 467, which is longer than the specified 100\n",
      "Created a chunk of size 204, which is longer than the specified 100\n",
      "Created a chunk of size 447, which is longer than the specified 100\n",
      "Created a chunk of size 445, which is longer than the specified 100\n",
      "Created a chunk of size 618, which is longer than the specified 100\n",
      "Created a chunk of size 220, which is longer than the specified 100\n",
      "Created a chunk of size 572, which is longer than the specified 100\n"
     ]
    }
   ],
   "source": [
    "documents = text_splitter.split_documents(raw_documents)"
   ]
  },
  {
   "cell_type": "code",
   "execution_count": 18,
   "id": "35623c88",
   "metadata": {},
   "outputs": [
    {
     "data": {
      "text/plain": [
       "13"
      ]
     },
     "execution_count": 18,
     "metadata": {},
     "output_type": "execute_result"
    }
   ],
   "source": [
    "len(documents)"
   ]
  },
  {
   "cell_type": "code",
   "execution_count": 19,
   "id": "e4c8c9dc",
   "metadata": {
    "scrolled": true
   },
   "outputs": [
    {
     "data": {
      "text/plain": [
       "[Document(page_content='Elon Reeve Musk (/ˈiːlɒn/ EE-lon; born June 28, 1971) is a businessman and investor. He is the founder, chairman, CEO, and CTO of SpaceX; angel investor, CEO, product architect, and former chairman of Tesla, Inc.; owner, executive chairman, and CTO of X Corp.; founder of the Boring Company and xAI; co-founder of Neuralink and OpenAI; and president of the Musk Foundation. He is one of the wealthiest people in the world; as of April 2024, Forbes estimates his net worth to be $193 billion.[4]', metadata={'source': 'Projects.txt'}),\n",
       " Document(page_content=\"A member of the wealthy South African Musk family, Musk was born in Pretoria and briefly attended the University of Pretoria before immigrating to Canada at age 18, acquiring citizenship through his Canadian-born mother. Two years later, he matriculated at Queen's University at Kingston in Canada. Musk later transferred to the University of Pennsylvania and received bachelor's degrees in economics and physics. He moved to California in 1995 to attend Stanford University, but dropped out after two days and, with his brother Kimbal, co-founded online city guide software company Zip2. The startup was acquired by Compaq for $307 million in 1999. That same year, Musk co-founded X.com, a direct bank. X.com merged with Confinity in 2000 to form PayPal. In October 2002, eBay acquired PayPal for $1.5 billion. Using $100 million of the money he made from the sale of PayPal, Musk founded SpaceX, a spaceflight services company, in 2002.\", metadata={'source': 'Projects.txt'})]"
      ]
     },
     "execution_count": 19,
     "metadata": {},
     "output_type": "execute_result"
    }
   ],
   "source": [
    "documents[0:2]"
   ]
  },
  {
   "cell_type": "code",
   "execution_count": 20,
   "id": "a8c9c31f",
   "metadata": {},
   "outputs": [
    {
     "data": {
      "text/plain": [
       "list"
      ]
     },
     "execution_count": 20,
     "metadata": {},
     "output_type": "execute_result"
    }
   ],
   "source": [
    "type(documents)"
   ]
  },
  {
   "cell_type": "code",
   "execution_count": 21,
   "id": "06e0d57d",
   "metadata": {},
   "outputs": [],
   "source": [
    "final_docs = []\n",
    "for i in documents:\n",
    "    final_docs.append(i.page_content)"
   ]
  },
  {
   "cell_type": "markdown",
   "id": "722e80cc",
   "metadata": {},
   "source": [
    "# Embedings\n",
    "and storing in Chroma DB <br>\n",
    "By inputting a set of documents into this custom function, you will receive vectors, or embeddings of the documents."
   ]
  },
  {
   "cell_type": "code",
   "execution_count": 22,
   "id": "56471f96",
   "metadata": {},
   "outputs": [],
   "source": [
    "class GeminiEmbeddingFunction(EmbeddingFunction):\n",
    "    \n",
    "    def __call__(self, input: Documents) -> Embeddings:\n",
    "        model = 'models/embedding-001'\n",
    "        title = \"Custom app query\"\n",
    "        return genai.embed_content(model=model,\n",
    "                                    content=input,\n",
    "                                    task_type=\"retrieval_document\",\n",
    "                                    title=title)[\"embedding\"]\n",
    "    \n",
    "    \n"
   ]
  },
  {
   "cell_type": "markdown",
   "id": "5d0c63f9",
   "metadata": {},
   "source": [
    "Now you will create the vector database. In the create_chroma_db function, you will instantiate a Chroma client{:.external}. From there, you will create a collection, which is where you store your embeddings, documents, and any metadata. Note that the embedding function from above is passed as an argument to the create_collection.\n",
    "\n",
    "Next, you use the add method to add the documents to the collection."
   ]
  },
  {
   "cell_type": "code",
   "execution_count": 23,
   "id": "edf72038",
   "metadata": {},
   "outputs": [],
   "source": [
    "def create_chroma_db(documents, name):\n",
    "    chroma_client = chromadb.Client()\n",
    "    db = chroma_client.create_collection(name=name, embedding_function=GeminiEmbeddingFunction())\n",
    "\n",
    "    for i, d in enumerate(documents):\n",
    "        db.add(\n",
    "      documents=d,\n",
    "      ids=str(i)\n",
    "    )\n",
    "    return db"
   ]
  },
  {
   "cell_type": "code",
   "execution_count": 24,
   "id": "374dc354",
   "metadata": {},
   "outputs": [],
   "source": [
    "# Set up the DB\n",
    "db = create_chroma_db(final_docs, \"googlecarsdatabase10\")"
   ]
  },
  {
   "cell_type": "code",
   "execution_count": 25,
   "id": "c5c37093",
   "metadata": {},
   "outputs": [],
   "source": [
    "# Confirm by looking at the DB\n",
    "db_df = pd.DataFrame(db.peek(50))"
   ]
  },
  {
   "cell_type": "code",
   "execution_count": 26,
   "id": "72501476",
   "metadata": {},
   "outputs": [
    {
     "data": {
      "text/plain": [
       "768"
      ]
     },
     "execution_count": 26,
     "metadata": {},
     "output_type": "execute_result"
    }
   ],
   "source": [
    "len(db_df['embeddings'][0]) # 768 vector size in gemini"
   ]
  },
  {
   "cell_type": "markdown",
   "id": "3e340d7f",
   "metadata": {},
   "source": [
    "# Getting the relevant document"
   ]
  },
  {
   "cell_type": "markdown",
   "id": "6df6317f",
   "metadata": {},
   "source": [
    "db is a Chroma collection object. You can call query on it to perform a nearest neighbors search to find similar embeddings or documents"
   ]
  },
  {
   "cell_type": "code",
   "execution_count": 27,
   "id": "19d7be52",
   "metadata": {},
   "outputs": [],
   "source": [
    "def get_relevant_passage(query, db):\n",
    "    passage = db.query(query_texts=[query], n_results=1)['documents'][0][0]\n",
    "    return passage"
   ]
  },
  {
   "cell_type": "code",
   "execution_count": null,
   "id": "dd3e71aa",
   "metadata": {},
   "outputs": [],
   "source": []
  },
  {
   "cell_type": "code",
   "execution_count": 28,
   "id": "92aef85a",
   "metadata": {},
   "outputs": [],
   "source": [
    "def make_prompt(query, relevant_passage):\n",
    "    escaped = relevant_passage.replace(\"'\", \"\").replace('\"', \"\").replace(\"\\n\", \" \")\n",
    "    \n",
    "    prompt = (\"\"\"You are a helpful and informative bot that answers questions using text from the reference passage included below. \\\n",
    "      Be sure to respond in a complete sentence, being comprehensive, including all relevant background information. \\\n",
    "      However, you are talking to a non-technical audience, so be sure to break down complicated concepts and \\\n",
    "      strike a friendly and converstional tone. \\\n",
    "      If the passage is irrelevant to the answer, you may ignore it.\n",
    "      QUESTION: '{query}'\n",
    "      PASSAGE: '{relevant_passage}'\n",
    "\n",
    "        ANSWER:      \"\"\").format(query=query, relevant_passage=escaped)\n",
    "\n",
    "    return prompt"
   ]
  },
  {
   "cell_type": "markdown",
   "id": "f0c36ed8",
   "metadata": {},
   "source": [
    "### 1. Query"
   ]
  },
  {
   "cell_type": "code",
   "execution_count": 29,
   "id": "d81916af",
   "metadata": {},
   "outputs": [],
   "source": [
    "query = \"Elon Musk is really owning SpaceX? if yes what is the revenue?\"\n",
    "# \"is there a temparature control exists on climate control knob located? if so, how to use it?\n",
    "# \"How do you use the touchscreen in the Google car?\""
   ]
  },
  {
   "cell_type": "markdown",
   "id": "f5820c65",
   "metadata": {},
   "source": [
    "### 2. Relevent context search"
   ]
  },
  {
   "cell_type": "code",
   "execution_count": 30,
   "id": "c68a6323",
   "metadata": {},
   "outputs": [
    {
     "data": {
      "text/markdown": [
       "Elon Reeve Musk (/ˈiːlɒn/ EE-lon; born June 28, 1971) is a businessman and investor. He is the founder, chairman, CEO, and CTO of SpaceX; angel investor, CEO, product architect, and former chairman of Tesla, Inc.; owner, executive chairman, and CTO of X Corp.; founder of the Boring Company and xAI; co-founder of Neuralink and OpenAI; and president of the Musk Foundation. He is one of the wealthiest people in the world; as of April 2024, Forbes estimates his net worth to be $193 billion.[4]"
      ],
      "text/plain": [
       "<IPython.core.display.Markdown object>"
      ]
     },
     "execution_count": 30,
     "metadata": {},
     "output_type": "execute_result"
    }
   ],
   "source": [
    "# Perform embedding search\n",
    "passage = get_relevant_passage(query, db)\n",
    "Markdown(passage)"
   ]
  },
  {
   "cell_type": "markdown",
   "id": "540484ca",
   "metadata": {},
   "source": [
    "### 3. Structed Prompt"
   ]
  },
  {
   "cell_type": "code",
   "execution_count": 31,
   "id": "20416761",
   "metadata": {},
   "outputs": [
    {
     "data": {
      "text/markdown": [
       "You are a helpful and informative bot that answers questions using text from the reference passage included below.       Be sure to respond in a complete sentence, being comprehensive, including all relevant background information.       However, you are talking to a non-technical audience, so be sure to break down complicated concepts and       strike a friendly and converstional tone.       If the passage is irrelevant to the answer, you may ignore it.\n",
       "      QUESTION: 'Elon Musk is really owning SpaceX? if yes what is the revenue?'\n",
       "      PASSAGE: 'Elon Reeve Musk (/ˈiːlɒn/ EE-lon; born June 28, 1971) is a businessman and investor. He is the founder, chairman, CEO, and CTO of SpaceX; angel investor, CEO, product architect, and former chairman of Tesla, Inc.; owner, executive chairman, and CTO of X Corp.; founder of the Boring Company and xAI; co-founder of Neuralink and OpenAI; and president of the Musk Foundation. He is one of the wealthiest people in the world; as of April 2024, Forbes estimates his net worth to be $193 billion.[4]'\n",
       "\n",
       "        ANSWER:      "
      ],
      "text/plain": [
       "<IPython.core.display.Markdown object>"
      ]
     },
     "execution_count": 31,
     "metadata": {},
     "output_type": "execute_result"
    }
   ],
   "source": [
    "# Pass a query to the prompt:\n",
    "prompt = make_prompt(query, passage)\n",
    "Markdown(prompt)"
   ]
  },
  {
   "cell_type": "markdown",
   "id": "89ad50dc",
   "metadata": {},
   "source": [
    "### 4. generate_content"
   ]
  },
  {
   "cell_type": "code",
   "execution_count": 32,
   "id": "f707f428",
   "metadata": {},
   "outputs": [
    {
     "data": {
      "text/markdown": [
       "Elon Musk is, indeed, the owner of SpaceX. As a private company, SpaceX doesn't release its financial data, so I don't have any information about its revenue."
      ],
      "text/plain": [
       "<IPython.core.display.Markdown object>"
      ]
     },
     "execution_count": 32,
     "metadata": {},
     "output_type": "execute_result"
    }
   ],
   "source": [
    "model = genai.GenerativeModel('gemini-pro')\n",
    "answer = model.generate_content(prompt)\n",
    "Markdown(answer.text)"
   ]
  },
  {
   "cell_type": "code",
   "execution_count": 33,
   "id": "674ad134",
   "metadata": {},
   "outputs": [
    {
     "data": {
      "text/html": [
       "<div>\n",
       "<style scoped>\n",
       "    .dataframe tbody tr th:only-of-type {\n",
       "        vertical-align: middle;\n",
       "    }\n",
       "\n",
       "    .dataframe tbody tr th {\n",
       "        vertical-align: top;\n",
       "    }\n",
       "\n",
       "    .dataframe thead th {\n",
       "        text-align: right;\n",
       "    }\n",
       "</style>\n",
       "<table border=\"1\" class=\"dataframe\">\n",
       "  <thead>\n",
       "    <tr style=\"text-align: right;\">\n",
       "      <th></th>\n",
       "      <th>ids</th>\n",
       "      <th>embeddings</th>\n",
       "      <th>metadatas</th>\n",
       "      <th>documents</th>\n",
       "      <th>uris</th>\n",
       "      <th>data</th>\n",
       "    </tr>\n",
       "  </thead>\n",
       "  <tbody>\n",
       "    <tr>\n",
       "      <th>0</th>\n",
       "      <td>0</td>\n",
       "      <td>[0.02941473200917244, -0.04040157049894333, -0...</td>\n",
       "      <td>None</td>\n",
       "      <td>Elon Reeve Musk (/ˈiːlɒn/ EE-lon; born June 28...</td>\n",
       "      <td>None</td>\n",
       "      <td>None</td>\n",
       "    </tr>\n",
       "    <tr>\n",
       "      <th>1</th>\n",
       "      <td>1</td>\n",
       "      <td>[0.06620374321937561, -0.08512534201145172, -0...</td>\n",
       "      <td>None</td>\n",
       "      <td>A member of the wealthy South African Musk fam...</td>\n",
       "      <td>None</td>\n",
       "      <td>None</td>\n",
       "    </tr>\n",
       "    <tr>\n",
       "      <th>2</th>\n",
       "      <td>10</td>\n",
       "      <td>[0.03718456253409386, -0.08949185907840729, -0...</td>\n",
       "      <td>None</td>\n",
       "      <td>Musk arrived in Canada in June 1989, connected...</td>\n",
       "      <td>None</td>\n",
       "      <td>None</td>\n",
       "    </tr>\n",
       "    <tr>\n",
       "      <th>3</th>\n",
       "      <td>11</td>\n",
       "      <td>[0.019050482660531998, -0.07613840699195862, -...</td>\n",
       "      <td>None</td>\n",
       "      <td>Two years later, he transferred to the Univers...</td>\n",
       "      <td>None</td>\n",
       "      <td>None</td>\n",
       "    </tr>\n",
       "    <tr>\n",
       "      <th>4</th>\n",
       "      <td>12</td>\n",
       "      <td>[0.045048512518405914, -0.07221843302249908, -...</td>\n",
       "      <td>None</td>\n",
       "      <td>In 1994, Musk held two internships in Silicon ...</td>\n",
       "      <td>None</td>\n",
       "      <td>None</td>\n",
       "    </tr>\n",
       "    <tr>\n",
       "      <th>5</th>\n",
       "      <td>2</td>\n",
       "      <td>[0.04144306853413582, -0.049283891916275024, -...</td>\n",
       "      <td>None</td>\n",
       "      <td>In 2004, Musk became an early investor in elec...</td>\n",
       "      <td>None</td>\n",
       "      <td>None</td>\n",
       "    </tr>\n",
       "    <tr>\n",
       "      <th>6</th>\n",
       "      <td>3</td>\n",
       "      <td>[0.036542847752571106, -0.12151738256216049, -...</td>\n",
       "      <td>None</td>\n",
       "      <td>Musk has expressed views that have made him a ...</td>\n",
       "      <td>None</td>\n",
       "      <td>None</td>\n",
       "    </tr>\n",
       "  </tbody>\n",
       "</table>\n",
       "</div>"
      ],
      "text/plain": [
       "  ids                                         embeddings metadatas  \\\n",
       "0   0  [0.02941473200917244, -0.04040157049894333, -0...      None   \n",
       "1   1  [0.06620374321937561, -0.08512534201145172, -0...      None   \n",
       "2  10  [0.03718456253409386, -0.08949185907840729, -0...      None   \n",
       "3  11  [0.019050482660531998, -0.07613840699195862, -...      None   \n",
       "4  12  [0.045048512518405914, -0.07221843302249908, -...      None   \n",
       "5   2  [0.04144306853413582, -0.049283891916275024, -...      None   \n",
       "6   3  [0.036542847752571106, -0.12151738256216049, -...      None   \n",
       "\n",
       "                                           documents  uris  data  \n",
       "0  Elon Reeve Musk (/ˈiːlɒn/ EE-lon; born June 28...  None  None  \n",
       "1  A member of the wealthy South African Musk fam...  None  None  \n",
       "2  Musk arrived in Canada in June 1989, connected...  None  None  \n",
       "3  Two years later, he transferred to the Univers...  None  None  \n",
       "4  In 1994, Musk held two internships in Silicon ...  None  None  \n",
       "5  In 2004, Musk became an early investor in elec...  None  None  \n",
       "6  Musk has expressed views that have made him a ...  None  None  "
      ]
     },
     "execution_count": 33,
     "metadata": {},
     "output_type": "execute_result"
    }
   ],
   "source": [
    "db_df.head(7)"
   ]
  },
  {
   "cell_type": "code",
   "execution_count": null,
   "id": "b87f0e2b",
   "metadata": {},
   "outputs": [],
   "source": []
  }
 ],
 "metadata": {
  "kernelspec": {
   "display_name": "Python 3 (ipykernel)",
   "language": "python",
   "name": "python3"
  },
  "language_info": {
   "codemirror_mode": {
    "name": "ipython",
    "version": 3
   },
   "file_extension": ".py",
   "mimetype": "text/x-python",
   "name": "python",
   "nbconvert_exporter": "python",
   "pygments_lexer": "ipython3",
   "version": "3.11.5"
  }
 },
 "nbformat": 4,
 "nbformat_minor": 5
}
