{
 "cells": [
  {
   "cell_type": "code",
   "execution_count": 1,
   "id": "2fd18fc8",
   "metadata": {},
   "outputs": [],
   "source": [
    "import pandas as pd\n",
    "pd.set_option('display.max_columns', None)\n",
    "from py2neo import Graph, Node, Relationship\n",
    "import numpy as np"
   ]
  },
  {
   "cell_type": "code",
   "execution_count": 2,
   "id": "3f32717c",
   "metadata": {},
   "outputs": [],
   "source": [
    "# Define the connection URI, username, and password\n",
    "uri = \"bolt://localhost:7687\" \n",
    "username = \"neo4j\"  \n",
    "password = \"onetwothree@123\" "
   ]
  },
  {
   "cell_type": "code",
   "execution_count": 3,
   "id": "2dfd91aa",
   "metadata": {},
   "outputs": [],
   "source": [
    "class Neo4jConfig:\n",
    "    def __init__(self, uri, username, password):\n",
    "        self.uri = uri\n",
    "        self.username = username\n",
    "        self.password = password\n",
    "        self.project = 'Example Project'\n",
    "        self.database = 'Movie DBMS'\n",
    "\n",
    "    def connect(self):\n",
    "        return Graph(self.uri, auth=(self.username, self.password))"
   ]
  },
  {
   "cell_type": "code",
   "execution_count": 7,
   "id": "ba212e04",
   "metadata": {},
   "outputs": [],
   "source": [
    "config = Neo4jConfig(uri = uri, username=username, password=password)\n",
    "# Connect to Neo4j\n",
    "config.graph = config.connect()"
   ]
  },
  {
   "cell_type": "code",
   "execution_count": 5,
   "id": "c0254bc9",
   "metadata": {},
   "outputs": [],
   "source": [
    "# Example query\n",
    "query = \"MATCH (n: Movie) RETURN count(n) as No_of_movies\"\n",
    "result = config.graph.run(query)"
   ]
  },
  {
   "cell_type": "code",
   "execution_count": 6,
   "id": "ce154ebe",
   "metadata": {},
   "outputs": [
    {
     "data": {
      "text/html": [
       "<table><tr><th>No_of_movies</th></tr><tr><td style=\"text-align:right\">78</td></tr></table>"
      ],
      "text/plain": [
       " No_of_movies \n",
       "--------------\n",
       "           78 "
      ]
     },
     "execution_count": 6,
     "metadata": {},
     "output_type": "execute_result"
    }
   ],
   "source": [
    "result"
   ]
  },
  {
   "cell_type": "code",
   "execution_count": 22,
   "id": "f4f178fd",
   "metadata": {},
   "outputs": [
    {
     "data": {
      "text/html": [
       "<table><tr><th>No_of_persons</th></tr><tr><td style=\"text-align:right\">270</td></tr></table>"
      ],
      "text/plain": [
       " No_of_persons \n",
       "---------------\n",
       "           270 "
      ]
     },
     "execution_count": 22,
     "metadata": {},
     "output_type": "execute_result"
    }
   ],
   "source": [
    "# Example query\n",
    "query = \"MATCH (n: Person) RETURN count(n) as No_of_persons\"\n",
    "result = config.graph.run(query)\n",
    "result"
   ]
  },
  {
   "cell_type": "code",
   "execution_count": 44,
   "id": "ef5ad088",
   "metadata": {},
   "outputs": [
    {
     "data": {
      "text/html": [
       "<table><tr><th>p.name</th></tr><tr><td style=\"text-align:left\">Keanu Reeves</td></tr><tr><td style=\"text-align:left\">Carrie-Anne Moss</td></tr><tr><td style=\"text-align:left\">Laurence Fishburne</td></tr></table>"
      ],
      "text/plain": [
       " p.name             \n",
       "--------------------\n",
       " Keanu Reeves       \n",
       " Carrie-Anne Moss   \n",
       " Laurence Fishburne "
      ]
     },
     "execution_count": 44,
     "metadata": {},
     "output_type": "execute_result"
    }
   ],
   "source": [
    "query =\"MATCH (p:Person) RETURN p.name\"\n",
    "result = config.graph.run(query)\n",
    "result"
   ]
  },
  {
   "cell_type": "code",
   "execution_count": 45,
   "id": "b21694a3",
   "metadata": {
    "collapsed": true
   },
   "outputs": [
    {
     "name": "stdout",
     "output_type": "stream",
     "text": [
      "'Keanu Reeves'\n",
      "'Carrie-Anne Moss'\n",
      "'Laurence Fishburne'\n",
      "'Hugo Weaving'\n",
      "'Andy Wachowski'\n",
      "'Lana Wachowski'\n",
      "'Joel Silver'\n",
      "'Emil Eifrem'\n",
      "'Charlize Theron'\n",
      "'Al Pacino'\n",
      "'Taylor Hackford'\n",
      "'Tom Cruise'\n",
      "'Jack Nicholson'\n",
      "'Demi Moore'\n",
      "'Kevin Bacon'\n",
      "'Kiefer Sutherland'\n",
      "'Noah Wyle'\n",
      "'Cuba Gooding Jr.'\n",
      "'Kevin Pollak'\n",
      "'J.T. Walsh'\n",
      "'James Marshall'\n",
      "'Christopher Guest'\n",
      "'Rob Reiner'\n",
      "'Aaron Sorkin'\n",
      "'Kelly McGillis'\n",
      "'Val Kilmer'\n",
      "'Anthony Edwards'\n",
      "'Tom Skerritt'\n",
      "'Meg Ryan'\n",
      "'Tony Scott'\n",
      "'Jim Cash'\n",
      "'Renee Zellweger'\n",
      "'Kelly Preston'\n",
      "\"Jerry O'Connell\"\n",
      "'Jay Mohr'\n",
      "'Bonnie Hunt'\n",
      "'Regina King'\n",
      "'Jonathan Lipnicki'\n",
      "'Cameron Crowe'\n",
      "'River Phoenix'\n",
      "'Corey Feldman'\n",
      "'Wil Wheaton'\n",
      "'John Cusack'\n",
      "'Marshall Bell'\n",
      "'Helen Hunt'\n",
      "'Greg Kinnear'\n",
      "'James L. Brooks'\n",
      "'Annabella Sciorra'\n",
      "'Max von Sydow'\n",
      "'Werner Herzog'\n",
      "'Robin Williams'\n",
      "'Vincent Ward'\n",
      "'Ethan Hawke'\n",
      "'Rick Yune'\n",
      "'James Cromwell'\n",
      "'Scott Hicks'\n",
      "'Parker Posey'\n",
      "'Dave Chappelle'\n",
      "'Steve Zahn'\n",
      "'Tom Hanks'\n",
      "'Nora Ephron'\n",
      "'Rita Wilson'\n",
      "'Bill Pullman'\n",
      "'Victor Garber'\n",
      "\"Rosie O'Donnell\"\n",
      "'John Patrick Stanley'\n",
      "'Nathan Lane'\n",
      "'Billy Crystal'\n",
      "'Carrie Fisher'\n",
      "'Bruno Kirby'\n",
      "'Liv Tyler'\n",
      "'Brooke Langton'\n",
      "'Gene Hackman'\n",
      "'Orlando Jones'\n",
      "'Howard Deutch'\n",
      "'Christian Bale'\n",
      "'Zach Grenier'\n",
      "'Mike Nichols'\n",
      "'Richard Harris'\n",
      "'Clint Eastwood'\n",
      "'Takeshi Kitano'\n",
      "'Dina Meyer'\n",
      "'Ice-T'\n",
      "'Robert Longo'\n",
      "'Halle Berry'\n",
      "'Jim Broadbent'\n",
      "'Tom Tykwer'\n",
      "'Ian McKellen'\n",
      "'Audrey Tautou'\n",
      "'Paul Bettany'\n",
      "'Ron Howard'\n",
      "'Natalie Portman'\n",
      "'Stephen Rea'\n",
      "'John Hurt'\n",
      "'Ben Miles'\n",
      "'Emile Hirsch'\n",
      "'John Goodman'\n",
      "'Susan Sarandon'\n",
      "'Matthew Fox'\n",
      "'Christina Ricci'\n",
      "'Rain'\n",
      "'Naomie Harris'\n",
      "'Michael Clarke Duncan'\n",
      "'David Morse'\n",
      "'Sam Rockwell'\n",
      "'Gary Sinise'\n",
      "'Patricia Clarkson'\n",
      "'Frank Darabont'\n",
      "'Frank Langella'\n",
      "'Michael Sheen'\n",
      "'Oliver Platt'\n",
      "'Danny DeVito'\n",
      "'John C. Reilly'\n",
      "'Ed Harris'\n",
      "'Bill Paxton'\n",
      "'Philip Seymour Hoffman'\n",
      "'Jan de Bont'\n",
      "'Robert Zemeckis'\n",
      "'Milos Forman'\n",
      "'Diane Keaton'\n",
      "'Nancy Meyers'\n",
      "'Chris Columbus'\n",
      "'Julia Roberts'\n",
      "'Madonna'\n",
      "'Geena Davis'\n",
      "'Lori Petty'\n",
      "'Penny Marshall'\n",
      "'Paul Blythe'\n",
      "'Angela Scope'\n",
      "'Jessica Thompson'\n",
      "'James Thompson'\n",
      "'Keanu Reeves'\n",
      "'Carrie-Anne Moss'\n",
      "'Laurence Fishburne'\n",
      "'Hugo Weaving'\n",
      "'Andy Wachowski'\n",
      "'Lana Wachowski'\n",
      "'Joel Silver'\n",
      "'Emil Eifrem'\n",
      "'Charlize Theron'\n",
      "'Al Pacino'\n",
      "'Taylor Hackford'\n",
      "'Tom Cruise'\n",
      "'Jack Nicholson'\n",
      "'Demi Moore'\n",
      "'Kevin Bacon'\n",
      "'Kiefer Sutherland'\n",
      "'Noah Wyle'\n",
      "'Cuba Gooding Jr.'\n",
      "'Kevin Pollak'\n",
      "'J.T. Walsh'\n",
      "'James Marshall'\n",
      "'Christopher Guest'\n",
      "'Rob Reiner'\n",
      "'Aaron Sorkin'\n",
      "'Kelly McGillis'\n",
      "'Val Kilmer'\n",
      "'Anthony Edwards'\n",
      "'Tom Skerritt'\n",
      "'Meg Ryan'\n",
      "'Tony Scott'\n",
      "'Jim Cash'\n",
      "'Renee Zellweger'\n",
      "'Kelly Preston'\n",
      "\"Jerry O'Connell\"\n",
      "'Jay Mohr'\n",
      "'Bonnie Hunt'\n",
      "'Regina King'\n",
      "'Jonathan Lipnicki'\n",
      "'Cameron Crowe'\n",
      "'River Phoenix'\n",
      "'Corey Feldman'\n",
      "'Wil Wheaton'\n",
      "'John Cusack'\n",
      "'Marshall Bell'\n",
      "'Helen Hunt'\n",
      "'Greg Kinnear'\n",
      "'James L. Brooks'\n",
      "'Annabella Sciorra'\n",
      "'Max von Sydow'\n",
      "'Werner Herzog'\n",
      "'Robin Williams'\n",
      "'Vincent Ward'\n",
      "'Ethan Hawke'\n",
      "'Rick Yune'\n",
      "'James Cromwell'\n",
      "'Scott Hicks'\n",
      "'Parker Posey'\n",
      "'Dave Chappelle'\n",
      "'Steve Zahn'\n",
      "'Tom Hanks'\n",
      "'Nora Ephron'\n",
      "'Rita Wilson'\n",
      "'Bill Pullman'\n",
      "'Victor Garber'\n",
      "\"Rosie O'Donnell\"\n",
      "'John Patrick Stanley'\n",
      "'Nathan Lane'\n",
      "'Billy Crystal'\n",
      "'Carrie Fisher'\n",
      "'Bruno Kirby'\n",
      "'Liv Tyler'\n",
      "'Brooke Langton'\n",
      "'Gene Hackman'\n",
      "'Orlando Jones'\n",
      "'Howard Deutch'\n",
      "'Christian Bale'\n",
      "'Zach Grenier'\n",
      "'Mike Nichols'\n",
      "'Richard Harris'\n",
      "'Clint Eastwood'\n",
      "'Takeshi Kitano'\n",
      "'Dina Meyer'\n",
      "'Ice-T'\n",
      "'Robert Longo'\n",
      "'Halle Berry'\n",
      "'Jim Broadbent'\n",
      "'Tom Tykwer'\n",
      "'Ian McKellen'\n",
      "'Audrey Tautou'\n",
      "'Paul Bettany'\n",
      "'Ron Howard'\n",
      "'Natalie Portman'\n",
      "'Stephen Rea'\n",
      "'John Hurt'\n",
      "'Ben Miles'\n",
      "'Emile Hirsch'\n",
      "'John Goodman'\n",
      "'Susan Sarandon'\n",
      "'Matthew Fox'\n",
      "'Christina Ricci'\n",
      "'Rain'\n",
      "'Naomie Harris'\n",
      "'Michael Clarke Duncan'\n",
      "'David Morse'\n",
      "'Sam Rockwell'\n",
      "'Gary Sinise'\n",
      "'Patricia Clarkson'\n",
      "'Frank Darabont'\n",
      "'Frank Langella'\n",
      "'Michael Sheen'\n",
      "'Oliver Platt'\n",
      "'Danny DeVito'\n",
      "'John C. Reilly'\n",
      "'Ed Harris'\n",
      "'Bill Paxton'\n",
      "'Philip Seymour Hoffman'\n",
      "'Jan de Bont'\n",
      "'Robert Zemeckis'\n",
      "'Milos Forman'\n",
      "'Diane Keaton'\n",
      "'Nancy Meyers'\n",
      "'Chris Columbus'\n",
      "'Julia Roberts'\n",
      "'Madonna'\n",
      "'Geena Davis'\n",
      "'Lori Petty'\n",
      "'Penny Marshall'\n",
      "'Paul Blythe'\n",
      "'Angela Scope'\n",
      "'Jessica Thompson'\n",
      "'James Thompson'\n",
      "'Kang-ho Song'\n",
      "'Sun-kyun Lee'\n",
      "'Yeo-jeong Jo'\n",
      "'Woo-sik Choi'\n",
      "'So-dam Park'\n",
      "'Joaquin Phoenix'\n",
      "'Robert De Niro'\n",
      "'Zazie Beetz'\n"
     ]
    }
   ],
   "source": [
    "person_names =[] \n",
    "for record in result:\n",
    "    person_names.append(record)\n",
    "    print(record)"
   ]
  },
  {
   "cell_type": "code",
   "execution_count": 46,
   "id": "10e5fd90",
   "metadata": {},
   "outputs": [
    {
     "data": {
      "text/plain": [
       "[Record({'p.name': 'Keanu Reeves'}),\n",
       " Record({'p.name': 'Carrie-Anne Moss'}),\n",
       " Record({'p.name': 'Laurence Fishburne'})]"
      ]
     },
     "execution_count": 46,
     "metadata": {},
     "output_type": "execute_result"
    }
   ],
   "source": [
    "person_names[0:3]"
   ]
  },
  {
   "cell_type": "markdown",
   "id": "71f84ebf",
   "metadata": {},
   "source": [
    "## Movie Queries"
   ]
  },
  {
   "cell_type": "code",
   "execution_count": 53,
   "id": "7fe4f505",
   "metadata": {},
   "outputs": [
    {
     "data": {
      "text/html": [
       "<table><tr><th>MovieName</th></tr><tr><td style=\"text-align:left\">The Matrix</td></tr><tr><td style=\"text-align:left\">The Matrix Reloaded</td></tr><tr><td style=\"text-align:left\">The Matrix Revolutions</td></tr></table>"
      ],
      "text/plain": [
       " MovieName              \n",
       "------------------------\n",
       " The Matrix             \n",
       " The Matrix Reloaded    \n",
       " The Matrix Revolutions "
      ]
     },
     "execution_count": 53,
     "metadata": {},
     "output_type": "execute_result"
    }
   ],
   "source": [
    "# Since duplicate records exists DISTINCT is used in the query\n",
    "\n",
    "query =\"MATCH (m:Movie) RETURN DISTINCT m.title as MovieName\"\n",
    "result = config.graph.run(query)\n",
    "result"
   ]
  },
  {
   "cell_type": "code",
   "execution_count": 54,
   "id": "c4c8be09",
   "metadata": {},
   "outputs": [
    {
     "name": "stdout",
     "output_type": "stream",
     "text": [
      "'The Matrix'\n",
      "'The Matrix Reloaded'\n",
      "'The Matrix Revolutions'\n",
      "\"The Devil's Advocate\"\n",
      "'A Few Good Men'\n",
      "'Top Gun'\n",
      "'Jerry Maguire'\n",
      "'Stand By Me'\n",
      "'As Good as It Gets'\n",
      "'What Dreams May Come'\n",
      "'Snow Falling on Cedars'\n",
      "\"You've Got Mail\"\n",
      "'Sleepless in Seattle'\n",
      "'Joe Versus the Volcano'\n",
      "'When Harry Met Sally'\n",
      "'That Thing You Do'\n",
      "'The Replacements'\n",
      "'RescueDawn'\n",
      "'The Birdcage'\n",
      "'Unforgiven'\n",
      "'Johnny Mnemonic'\n",
      "'Cloud Atlas'\n",
      "'The Da Vinci Code'\n",
      "'V for Vendetta'\n",
      "'Speed Racer'\n",
      "'Ninja Assassin'\n",
      "'The Green Mile'\n",
      "'Frost/Nixon'\n",
      "'Hoffa'\n",
      "'Apollo 13'\n",
      "'Twister'\n",
      "'Cast Away'\n",
      "\"One Flew Over the Cuckoo's Nest\"\n",
      "\"Something's Gotta Give\"\n",
      "'Bicentennial Man'\n",
      "\"Charlie Wilson's War\"\n",
      "'The Polar Express'\n",
      "'A League of Their Own'\n",
      "'Parasite'\n",
      "'Joker'\n"
     ]
    }
   ],
   "source": [
    "for i in result:\n",
    "    print(i)"
   ]
  },
  {
   "cell_type": "code",
   "execution_count": 67,
   "id": "1ee44c11",
   "metadata": {},
   "outputs": [],
   "source": [
    "query = \"MATCH (m:Movie {title: 'Cloud Atlas'}) RETURN m as Properties\"\n",
    "result = config.graph.run(query)"
   ]
  },
  {
   "cell_type": "code",
   "execution_count": 68,
   "id": "242ee629",
   "metadata": {},
   "outputs": [],
   "source": [
    "resulted = result.to_data_frame()"
   ]
  },
  {
   "cell_type": "code",
   "execution_count": 70,
   "id": "70aa1a45",
   "metadata": {},
   "outputs": [
    {
     "data": {
      "text/plain": [
       "array([[Node('Movie', released=2012, tagline='Everything is connected', title='Cloud Atlas')],\n",
       "       [Node('Movie', released=2012, tagline='Everything is connected', title='Cloud Atlas')]],\n",
       "      dtype=object)"
      ]
     },
     "execution_count": 70,
     "metadata": {},
     "output_type": "execute_result"
    }
   ],
   "source": [
    "resulted.values"
   ]
  },
  {
   "cell_type": "markdown",
   "id": "7df836eb",
   "metadata": {},
   "source": [
    "##### conditional matching"
   ]
  },
  {
   "cell_type": "code",
   "execution_count": 71,
   "id": "004a32fa",
   "metadata": {},
   "outputs": [],
   "source": [
    "query =\"MATCH (nine:Movie) WHERE nine.released>=1900 AND nine.released<2000 RETURN nine.title\"\n",
    "result = config.graph.run(query)\n"
   ]
  },
  {
   "cell_type": "code",
   "execution_count": 74,
   "id": "723f4ade",
   "metadata": {
    "collapsed": true
   },
   "outputs": [
    {
     "name": "stdout",
     "output_type": "stream",
     "text": [
      "'The Matrix'\n",
      "\"The Devil's Advocate\"\n",
      "'A Few Good Men'\n",
      "'Top Gun'\n",
      "'Stand By Me'\n",
      "'As Good as It Gets'\n",
      "'What Dreams May Come'\n",
      "'Snow Falling on Cedars'\n",
      "\"You've Got Mail\"\n",
      "'Sleepless in Seattle'\n",
      "'Joe Versus the Volcano'\n",
      "'When Harry Met Sally'\n",
      "'That Thing You Do'\n",
      "'The Birdcage'\n",
      "'Unforgiven'\n",
      "'Johnny Mnemonic'\n",
      "'The Green Mile'\n",
      "'Hoffa'\n",
      "'Apollo 13'\n",
      "'Twister'\n",
      "\"One Flew Over the Cuckoo's Nest\"\n",
      "'Bicentennial Man'\n",
      "'A League of Their Own'\n",
      "'The Matrix'\n",
      "\"The Devil's Advocate\"\n",
      "'A Few Good Men'\n",
      "'Top Gun'\n",
      "'Stand By Me'\n",
      "'As Good as It Gets'\n",
      "'What Dreams May Come'\n",
      "'Snow Falling on Cedars'\n",
      "\"You've Got Mail\"\n",
      "'Sleepless in Seattle'\n",
      "'Joe Versus the Volcano'\n",
      "'When Harry Met Sally'\n",
      "'That Thing You Do'\n",
      "'The Birdcage'\n",
      "'Unforgiven'\n",
      "'Johnny Mnemonic'\n",
      "'The Green Mile'\n",
      "'Hoffa'\n",
      "'Apollo 13'\n",
      "'Twister'\n",
      "\"One Flew Over the Cuckoo's Nest\"\n",
      "'Bicentennial Man'\n",
      "'A League of Their Own'\n"
     ]
    }
   ],
   "source": [
    "for i in result:\n",
    "    print(i)"
   ]
  },
  {
   "cell_type": "markdown",
   "id": "1795258c",
   "metadata": {},
   "source": [
    "## Pattern matching with multiple nodes"
   ]
  },
  {
   "cell_type": "markdown",
   "id": "d1da333e",
   "metadata": {},
   "source": [
    "### List of Movies acted by Tom Hanks"
   ]
  },
  {
   "cell_type": "code",
   "execution_count": 116,
   "id": "a1fb3c65",
   "metadata": {},
   "outputs": [],
   "source": [
    "query = \"MATCH (actor:Person {name: 'Tom Hanks'})-[:ACTED_IN]->(m:Movie) RETURN DISTINCT actor.name, m.title\"\n",
    "\n",
    "result = config.graph.run(query)\n"
   ]
  },
  {
   "cell_type": "code",
   "execution_count": 117,
   "id": "a62091e1",
   "metadata": {},
   "outputs": [
    {
     "name": "stdout",
     "output_type": "stream",
     "text": [
      "Tom Hanks --> You've Got Mail\n",
      "Tom Hanks --> Apollo 13\n",
      "Tom Hanks --> Joe Versus the Volcano\n",
      "Tom Hanks --> That Thing You Do\n",
      "Tom Hanks --> Cloud Atlas\n",
      "Tom Hanks --> The Da Vinci Code\n",
      "Tom Hanks --> Sleepless in Seattle\n",
      "Tom Hanks --> A League of Their Own\n",
      "Tom Hanks --> The Green Mile\n",
      "Tom Hanks --> Charlie Wilson's War\n",
      "Tom Hanks --> Cast Away\n",
      "Tom Hanks --> The Polar Express\n"
     ]
    }
   ],
   "source": [
    "for i, j in result:\n",
    "\n",
    "    print(i, \"-->\", j)\n",
    "    "
   ]
  },
  {
   "cell_type": "code",
   "execution_count": 118,
   "id": "45da6816",
   "metadata": {},
   "outputs": [
    {
     "data": {
      "text/html": [
       "(No data)"
      ],
      "text/plain": [
       "(No data)"
      ]
     },
     "execution_count": 118,
     "metadata": {},
     "output_type": "execute_result"
    }
   ],
   "source": [
    "query = \"MATCH (movie:Movie {title: 'Cast Away'})-[:ACTED_IN]->(p:Person) RETURN DISTINCT p.name, movie.title\"\n",
    " # Because this is directional and get no data output\n",
    "result = config.graph.run(query)\n",
    "result"
   ]
  },
  {
   "cell_type": "markdown",
   "id": "1abe10f6",
   "metadata": {},
   "source": [
    "### Who else acted along with Tom Hanks"
   ]
  },
  {
   "cell_type": "code",
   "execution_count": 119,
   "id": "523974ce",
   "metadata": {},
   "outputs": [
    {
     "data": {
      "text/html": [
       "<table><tr><th>coActors.name</th></tr><tr><td style=\"text-align:left\">Parker Posey</td></tr><tr><td style=\"text-align:left\">Greg Kinnear</td></tr><tr><td style=\"text-align:left\">Meg Ryan</td></tr></table>"
      ],
      "text/plain": [
       " coActors.name \n",
       "---------------\n",
       " Parker Posey  \n",
       " Greg Kinnear  \n",
       " Meg Ryan      "
      ]
     },
     "execution_count": 119,
     "metadata": {},
     "output_type": "execute_result"
    }
   ],
   "source": [
    "# <> not qual to \n",
    "query = \"\"\"MATCH (actor:Person)-[:ACTED_IN]->(m)<-[:ACTED_IN]-(coActors)\n",
    "            WHERE actor.name= \"Tom Hanks\" AND coActors.name <> \"Tom Hanks\" \n",
    "            RETURN coActors.name\"\"\"\n",
    "\n",
    "result = config.graph.run(query)\n",
    "result"
   ]
  },
  {
   "cell_type": "code",
   "execution_count": 120,
   "id": "d8844acd",
   "metadata": {
    "collapsed": true
   },
   "outputs": [
    {
     "name": "stdout",
     "output_type": "stream",
     "text": [
      "--> 'Parker Posey'\n",
      "--> 'Greg Kinnear'\n",
      "--> 'Meg Ryan'\n",
      "--> 'Steve Zahn'\n",
      "--> 'Dave Chappelle'\n",
      "--> 'Ed Harris'\n",
      "--> 'Kevin Bacon'\n",
      "--> 'Gary Sinise'\n",
      "--> 'Bill Paxton'\n",
      "--> 'Nathan Lane'\n",
      "--> 'Meg Ryan'\n",
      "--> 'Liv Tyler'\n",
      "--> 'Charlize Theron'\n",
      "--> 'Jim Broadbent'\n",
      "--> 'Halle Berry'\n",
      "--> 'Hugo Weaving'\n",
      "--> 'Audrey Tautou'\n",
      "--> 'Ian McKellen'\n",
      "--> 'Paul Bettany'\n",
      "--> 'Meg Ryan'\n",
      "--> 'Victor Garber'\n",
      "--> 'Bill Pullman'\n",
      "--> 'Rita Wilson'\n",
      "--> \"Rosie O'Donnell\"\n",
      "--> 'Lori Petty'\n",
      "--> 'Bill Paxton'\n",
      "--> \"Rosie O'Donnell\"\n",
      "--> 'Geena Davis'\n",
      "--> 'Madonna'\n",
      "--> 'Patricia Clarkson'\n",
      "--> 'Sam Rockwell'\n",
      "--> 'Gary Sinise'\n",
      "--> 'David Morse'\n",
      "--> 'Bonnie Hunt'\n",
      "--> 'Michael Clarke Duncan'\n",
      "--> 'James Cromwell'\n",
      "--> 'Julia Roberts'\n",
      "--> 'Philip Seymour Hoffman'\n",
      "--> 'Helen Hunt'\n",
      "--> 'Audrey Tautou'\n",
      "--> 'Ian McKellen'\n",
      "--> 'Paul Bettany'\n",
      "--> 'Gary Sinise'\n",
      "--> 'Bill Paxton'\n",
      "--> 'Ed Harris'\n",
      "--> 'Kevin Bacon'\n",
      "--> 'Bonnie Hunt'\n",
      "--> 'David Morse'\n",
      "--> 'Gary Sinise'\n",
      "--> 'Sam Rockwell'\n",
      "--> 'James Cromwell'\n",
      "--> 'Patricia Clarkson'\n",
      "--> 'Michael Clarke Duncan'\n",
      "--> 'Helen Hunt'\n",
      "--> 'Philip Seymour Hoffman'\n",
      "--> 'Julia Roberts'\n",
      "--> 'Liv Tyler'\n",
      "--> 'Charlize Theron'\n",
      "--> \"Rosie O'Donnell\"\n",
      "--> 'Bill Paxton'\n",
      "--> 'Geena Davis'\n",
      "--> 'Lori Petty'\n",
      "--> 'Madonna'\n",
      "--> 'Nathan Lane'\n",
      "--> 'Meg Ryan'\n",
      "--> 'Meg Ryan'\n",
      "--> 'Victor Garber'\n",
      "--> 'Bill Pullman'\n",
      "--> \"Rosie O'Donnell\"\n",
      "--> 'Rita Wilson'\n",
      "--> 'Parker Posey'\n",
      "--> 'Dave Chappelle'\n",
      "--> 'Steve Zahn'\n",
      "--> 'Meg Ryan'\n",
      "--> 'Greg Kinnear'\n",
      "--> 'Hugo Weaving'\n",
      "--> 'Halle Berry'\n",
      "--> 'Jim Broadbent'\n"
     ]
    }
   ],
   "source": [
    "for j in result:\n",
    "\n",
    "    print( \"-->\", j)\n",
    "    "
   ]
  },
  {
   "cell_type": "markdown",
   "id": "51b91c84",
   "metadata": {},
   "source": [
    " searching for co-actors of \"Tom Hanks\" from the movie \"Apollo 13\". Let's break down the query:"
   ]
  },
  {
   "cell_type": "code",
   "execution_count": 128,
   "id": "b55c73e5",
   "metadata": {},
   "outputs": [
    {
     "data": {
      "text/html": [
       "<table><tr><th>coActors.name</th><th>m.title</th></tr><tr><td style=\"text-align:left\">Ed Harris</td><td style=\"text-align:left\">Apollo 13</td></tr><tr><td style=\"text-align:left\">Kevin Bacon</td><td style=\"text-align:left\">Apollo 13</td></tr><tr><td style=\"text-align:left\">Gary Sinise</td><td style=\"text-align:left\">Apollo 13</td></tr></table>"
      ],
      "text/plain": [
       " coActors.name | m.title   \n",
       "---------------|-----------\n",
       " Ed Harris     | Apollo 13 \n",
       " Kevin Bacon   | Apollo 13 \n",
       " Gary Sinise   | Apollo 13 "
      ]
     },
     "execution_count": 128,
     "metadata": {},
     "output_type": "execute_result"
    }
   ],
   "source": [
    "query = \"\"\"MATCH (actor:Person)-[:ACTED_IN]->(m)<-[:ACTED_IN]-(coActors)\n",
    "            \n",
    "             WHERE actor.name=\"Tom Hanks\" AND m.title= \"Apollo 13\"\n",
    "            RETURN coActors.name, m.title\"\"\"\n",
    "\n",
    "result = config.graph.run(query)\n",
    "result\n"
   ]
  },
  {
   "cell_type": "code",
   "execution_count": 129,
   "id": "27b02e99",
   "metadata": {},
   "outputs": [
    {
     "name": "stdout",
     "output_type": "stream",
     "text": [
      "Ed Harris --> Apollo 13\n",
      "Kevin Bacon --> Apollo 13\n",
      "Gary Sinise --> Apollo 13\n",
      "Bill Paxton --> Apollo 13\n",
      "Gary Sinise --> Apollo 13\n",
      "Bill Paxton --> Apollo 13\n",
      "Ed Harris --> Apollo 13\n",
      "Kevin Bacon --> Apollo 13\n"
     ]
    }
   ],
   "source": [
    "for i, j in result:\n",
    "\n",
    "    print(i, \"-->\", j)\n",
    "    "
   ]
  },
  {
   "cell_type": "markdown",
   "id": "ace568d9",
   "metadata": {},
   "source": [
    "# End"
   ]
  },
  {
   "cell_type": "markdown",
   "id": "023f7f23",
   "metadata": {},
   "source": [
    "##### Adding data to Graph"
   ]
  },
  {
   "cell_type": "code",
   "execution_count": null,
   "id": "2b99dcf9",
   "metadata": {},
   "outputs": [],
   "source": [
    "cypher = \"\"\"\n",
    "CREATE (andreas:Person {name:\"Andreas\"})\n",
    "RETURN andreas\n",
    "\"\"\"\n",
    "\n",
    "kg.query(cypher)\n",
    "\n",
    "cypher = \"\"\"\n",
    "MATCH (andreas:Person {name:\"Andreas\"}), (emil:Person {name:\"Emil Eifrem\"})\n",
    "MERGE (andreas)-[hasRelationship:WORKS_WITH]->(emil)\n",
    "RETURN andreas, hasRelationship, emil\n",
    "\"\"\"\n",
    "kg.query(cypher)"
   ]
  }
 ],
 "metadata": {
  "kernelspec": {
   "display_name": "Python 3 (ipykernel)",
   "language": "python",
   "name": "python3"
  },
  "language_info": {
   "codemirror_mode": {
    "name": "ipython",
    "version": 3
   },
   "file_extension": ".py",
   "mimetype": "text/x-python",
   "name": "python",
   "nbconvert_exporter": "python",
   "pygments_lexer": "ipython3",
   "version": "3.11.5"
  }
 },
 "nbformat": 4,
 "nbformat_minor": 5
}
